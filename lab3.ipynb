{
  "cells": [
    {
      "cell_type": "markdown",
      "metadata": {
        "id": "0z3KlfKDn4_K"
      },
      "source": [
        "# Лабораторная работа 3. \n",
        "# Сетевые алгоритмы. Динамические алгоритмы поиска путей.\n"
      ]
    },
    {
      "attachments": {},
      "cell_type": "markdown",
      "metadata": {
        "id": "96Gi_LEvmSVH"
      },
      "source": [
        "## Выполнил студент группы БСТ2103 Грушников Александр\n",
        "***"
      ]
    },
    {
      "cell_type": "markdown",
      "metadata": {
        "id": "GjdIp8aToKIe"
      },
      "source": [
        "### Задание\n",
        "\n",
        "1.  Реализовать алгоритм поиска кратчайшего расстояния между двумя вершинами ориентированного взвешенного графа в соответствии с вариантом. \n",
        "\n",
        "2.  Предусмотреть задание графа в виде матрицы смежности/инцидентности, читаемой из файла, либо графически с помощью пользовательского интерфейса. \n",
        "\n",
        "3.  Разработать графический интерфейс пользователя с визуализацией графа и отображением кратчайшего расстояния между задаваемыми пользователем вершинами.\n",
        "\n",
        "4. По результатам работы проанализировать временную сложность работы заданного алгоритма в зависимости от числа узлов и ребер графа.\n",
        "Данные представить в виде таблицы.\n",
        "\n"
      ]
    },
    {
      "cell_type": "markdown",
      "metadata": {
        "id": "LhhUXrAmotIA"
      },
      "source": [
        "### Алгоритмы:\n",
        "\n",
        "Алгоритм Флойда-Уоршелла| Алгоритм Дейкстры | Алгоритм Беллмана-Форда | Алгоритм Джонсона| Алгоритм Левита | Алгоритм Йена\n",
        "\n"
      ]
    },
    {
      "cell_type": "markdown",
      "metadata": {
        "id": "Wggfn8l7nG72"
      },
      "source": [
        "### Выполнение:"
      ]
    },
    {
      "cell_type": "code",
      "execution_count": 336,
      "metadata": {},
      "outputs": [],
      "source": [
        "import networkx as nx\n",
        "import matplotlib.pyplot as plt\n",
        "import heapq"
      ]
    },
    {
      "cell_type": "code",
      "execution_count": 337,
      "metadata": {},
      "outputs": [],
      "source": [
        "class Graph:\n",
        "    def __init__(self, vertices):\n",
        "        self.V = vertices  \n",
        "        self.graph = []  \n",
        "    \n",
        "    # Функция добавления ребра в список смежности\n",
        "    def addEdge(self, u, v, w):\n",
        "        self.graph.append([u, v, w])\n",
        "    \n",
        "    # Функция для вывода расстояний от источника до каждой вершины\n",
        "    def printArr(self, dist):\n",
        "        print(\"Расстояние вершины от источника\")\n",
        "        for i in range(self.V):\n",
        "            if dist[i] == float('inf'):\n",
        "                print(\"% d \\t\\t %s\" % (i, \" 0\"))\n",
        "            else:\n",
        "                print(\"% d \\t\\t % d\" % (i, dist[i]))\n",
        "    \n",
        "    # Алгоритм Беллмана-Форда для поиска кратчайших путей от источника до всех остальных вершин в графе.\n",
        "    def BellmanFord(self, src):\n",
        "        dist = [float(\"inf\")] * self.V # Инициализация массива расстояний до всех вершин как бесконечности\n",
        "        dist[src] = 0 # Расстояние до источника равно 0\n",
        "        for i in range(self.V - 1): # Выполняем цикл V-1 раз, где V - количество вершин в графе\n",
        "            for u, v, w in self.graph: # Проходим по всем ребрам графа\n",
        "                if dist[u] != float(\"inf\") and dist[u] + w < dist[v]: # Если расстояние до текущей вершины u не бесконечность и сумма расстояния до u и веса ребра (u, v) меньше текущего расстояния до вершины v\n",
        "                    dist[v] = dist[u] + w # Обновляем расстояние до вершины v\n",
        "        return dist # Возвращаем массив расстояний до всех вершин после выполнения алгоритма Беллмана-Форда\n",
        "\n",
        "\n",
        "    def dijkstra(self, src):\n",
        "        # Инициализируем список расстояний как бесконечности для всех вершин кроме источника\n",
        "        dist = [float('inf')] * self.V\n",
        "        dist[src] = 0\n",
        "        \n",
        "        # Инициализируем очередь с приоритетом и добавляем источник в нее\n",
        "        pq = [(0, src)]\n",
        "        \n",
        "        # Обрабатываем вершины пока очередь не станет пустой\n",
        "        while pq:\n",
        "            # Извлекаем вершину с наименьшим расстоянием из очереди\n",
        "            (curr_dist, curr_node) = heapq.heappop(pq)\n",
        "            \n",
        "            # Перебираем соседей текущей вершины\n",
        "            for (next_node, weight) in self.get_neighbors(curr_node):\n",
        "                # Вычисляем новое расстояние от источника до соседней вершины через текущую вершину\n",
        "                new_dist = curr_dist + weight\n",
        "                \n",
        "                # Если новое расстояние меньше, чем старое, обновляем расстояние и добавляем соседнюю вершину в очередь\n",
        "                if new_dist < dist[next_node]:\n",
        "                    dist[next_node] = new_dist\n",
        "                    heapq.heappush(pq, (new_dist, next_node))\n",
        "        \n",
        "        # Выводим расстояния от источника до каждой вершины\n",
        "        return dist\n",
        "    \n",
        "            # Возвращает список соседей данной вершины\n",
        "\n",
        "    def get_neighbors(self, node):\n",
        "        neighbors = []\n",
        "        for edge in self.graph:\n",
        "            if edge[0] == node:\n",
        "                neighbors.append((edge[1], edge[2]))\n",
        "        return neighbors\n",
        "\n",
        "    # Алгоритм Флойда-Уоршелла\n",
        "    def floydWarshall(self):\n",
        "        # Создаем матрицу расстояний dist размером VxV, и заполняем ее бесконечными значениями.\n",
        "        dist = [[float('inf')] * self.V for _ in range(self.V)]\n",
        "\n",
        "        # Заполняем матрицу расстояний известными значениями весов ребер графа.\n",
        "        for u, v, w in self.graph:\n",
        "            dist[u][v] = w\n",
        "\n",
        "        for k in range(self.V):\n",
        "            for i in range(self.V):\n",
        "                for j in range(self.V):\n",
        "                    # Обновляем значение расстояния между вершинами i и j, если найден более короткий путь через вершину k.\n",
        "                    dist[i][j] = min(dist[i][j], dist[i][k] + dist[k][j])\n",
        "\n",
        "        return dist[0]\n",
        "    \n",
        "    # Алгоритм Джонсона\n",
        "    def Johnson(self, src):\n",
        "        self.graph.extend([[self.V - 1, i, 0] for i in range(self.V - 1)]) # Добавляем ребра из нового истока во все остальные вершины\n",
        "        \n",
        "        h = self.BellmanFord(self.V - 1) # Выполняем алгоритм Беллмана-Форда для определения кратчайших путей от нового истока\n",
        "        \n",
        "        # Обновляем веса ребер в графе с учетом найденных кратчайших путей от нового истока\n",
        "        for i in range(len(self.graph)):\n",
        "            self.graph[i][2] += h[self.graph[i][0]] - h[self.graph[i][1]]\n",
        "        \n",
        "        shortest_paths = [[float('inf')] * self.V for _ in range(self.V)] # Инициализируем двумерный массив для хранения кратчайших путей\n",
        "        \n",
        "        # Выполняем алгоритм Дейкстры для каждой вершины графа, с учетом найденных кратчайших путей от нового истока\n",
        "        for i in range(self.V):\n",
        "            dist = self.dijkstra(i)\n",
        "            for j in range(self.V):\n",
        "                shortest_paths[i][j] = dist[j] + h[j] - h[i] # Обновляем длину пути с учетом найденных кратчайших путей от нового истока\n",
        "        \n",
        "        # Восстанавливаем исходные веса ребер в графе\n",
        "        for i in range(len(self.graph)):\n",
        "            self.graph[i][2] -= h[self.graph[i][0]] - h[self.graph[i][1]]\n",
        "        shortest_paths.pop()\n",
        "        \n",
        "        return shortest_paths[src] # Возвращаем кратчайшие пути от источника (src) в виде массива\n",
        "\n",
        "         \n",
        "    def levitAlgorithm(graph, src):\n",
        "        results = []\n",
        "        # Инициализация списка расстояний dist для каждой вершины графа, начальные значения равны бесконечности\n",
        "        dist = [float('inf')] * graph.V\n",
        "        dist[src] = 0\n",
        "        first_layer = [src]\n",
        "        second_layer = []\n",
        "        third_layer = []\n",
        "        # Список для отслеживания наличия вершины в очереди на обработку\n",
        "        in_queue = [False] * graph.V\n",
        "        in_queue[src] = True\n",
        "        # Список для отслеживания уже обработанных вершин\n",
        "        processed = [False] * graph.V\n",
        "        \n",
        "        while first_layer or second_layer or third_layer: # Пока есть вершины в одном из слоев\n",
        "            while first_layer:\n",
        "                u = first_layer.pop(0)\n",
        "                in_queue[u] = False\n",
        "                processed[u] = True\n",
        "                for edge in graph.graph:\n",
        "                    if edge[0] == u:\n",
        "                        v = edge[1]\n",
        "                        w = edge[2]\n",
        "                        if dist[v] > dist[u] + w:\n",
        "                            dist[v] = dist[u] + w\n",
        "                            if not in_queue[v]:\n",
        "                                in_queue[v] = True\n",
        "                                second_layer.append(v)\n",
        "            \n",
        "            while second_layer:\n",
        "                u = second_layer.pop(0)\n",
        "                in_queue[u] = False\n",
        "                for edge in graph.graph:\n",
        "                    if edge[0] == u:\n",
        "                        v = edge[1]\n",
        "                        w = edge[2]\n",
        "                        if dist[v] > dist[u] + w:\n",
        "                            dist[v] = dist[u] + w\n",
        "                            if not in_queue[v]:\n",
        "                                in_queue[v] = True\n",
        "                                if v not in third_layer:\n",
        "                                    third_layer.append(v)\n",
        "            \n",
        "            while third_layer:\n",
        "                u = third_layer.pop(0)\n",
        "                in_queue[u] = False\n",
        "                processed[u] = True\n",
        "                for edge in graph.graph:\n",
        "                    if edge[0] == u:\n",
        "                        v = edge[1]\n",
        "                        w = edge[2]\n",
        "                        if dist[v] > dist[u] + w:\n",
        "                            dist[v] = dist[u] + w\n",
        "                            if not in_queue[v]:\n",
        "                                in_queue[v] = True\n",
        "                                if v not in second_layer and v not in third_layer:\n",
        "                                    second_layer.append(v)\n",
        "            \n",
        "            if not first_layer and not second_layer and not third_layer:\n",
        "                for edge in graph.graph:\n",
        "                    u = edge[0]\n",
        "                    v = edge[1]\n",
        "                    w = edge[2]\n",
        "                    if dist[v] > dist[u] + w and processed[u]:\n",
        "                        print(\"Graph contains negative cycle.\")\n",
        "                        return\n",
        "        \n",
        "        return dist\n",
        "    \n",
        "     # Функция для выполнения Yen's алгоритма\n",
        "    def yenAlgorithm(self, src):\n",
        "        # Импорт модуля heapq для реализации приоритетной очереди\n",
        "        import heapq\n",
        "        \n",
        "        # Создаем список для хранения результатов\n",
        "        results = []\n",
        "        \n",
        "        # Создаем список расстояний и инициализируем его значением бесконечности\n",
        "        dist = [float('inf')] * self.V\n",
        "        \n",
        "        # Устанавливаем расстояние от исходной вершины до самой себя равным 0\n",
        "        dist[src] = 0\n",
        "        \n",
        "        # Создаем очередь с приоритетом для обработки вершин\n",
        "        pq = [(0, src)]\n",
        "        \n",
        "        # Пока очередь не пуста\n",
        "        while pq:\n",
        "            # Извлекаем вершину с наименьшим расстоянием\n",
        "            (d, u) = heapq.heappop(pq)\n",
        "            \n",
        "            # Для каждого ребра из текущей вершины\n",
        "            for edge in self.graph:\n",
        "                if edge[0] == u:\n",
        "                    v = edge[1]\n",
        "                    w = edge[2]\n",
        "                    \n",
        "                    # Если найденное расстояние до вершины v меньше, чем текущее известное расстояние\n",
        "                    if dist[v] > dist[u] + w:\n",
        "                        # Обновляем расстояние\n",
        "                        dist[v] = dist[u] + w\n",
        "                        \n",
        "                        # Добавляем вершину v в очередь с приоритетом\n",
        "                        heapq.heappush(pq, (dist[v], v))\n",
        "        \n",
        "        return dist"
      ]
    },
    {
      "cell_type": "code",
      "execution_count": 338,
      "metadata": {},
      "outputs": [],
      "source": [
        "st = open(\"graph.txt\")\n",
        "\n",
        "n = int(st.readline()) # Ввод количества вершин\n",
        "m = int(st.readline()) # Ввод количества ребер\n",
        "graph = Graph(n)\n",
        "G = nx.DiGraph()\n",
        "for f in range(m):\n",
        "    u, v, w = tuple(map(int, st.readline().split()))\n",
        "    graph.addEdge(u, v, w)\n",
        "    G.add_edge(u, v, weight = w)\n",
        "\n",
        "    "
      ]
    },
    {
      "cell_type": "code",
      "execution_count": 339,
      "metadata": {},
      "outputs": [
        {
          "data": {
            "image/png": "[encoded data removed]",
            "text/plain": [
              "<Figure size 640x480 with 1 Axes>"
            ]
          },
          "metadata": {},
          "output_type": "display_data"
        }
      ],
      "source": [
        "pos = nx.circular_layout(G)\n",
        "nx.draw(G, pos, with_labels = True)\n",
        "edge_weight = nx.get_edge_attributes(G,'weight')\n",
        "nx.draw_networkx_edge_labels(G, pos, edge_labels = edge_weight)\n",
        "plt.show()"
      ]
    },
    {
      "cell_type": "code",
      "execution_count": 340,
      "metadata": {},
      "outputs": [
        {
          "name": "stdout",
          "output_type": "stream",
          "text": [
            "Bellman-Ford algorithm:\n",
            "Расстояние вершины от источника\n",
            " 0 \t\t  0\n",
            " 1 \t\t -1\n",
            " 2 \t\t  2\n",
            " 3 \t\t -2\n",
            " 4 \t\t  1\n"
          ]
        }
      ],
      "source": [
        "g = graph\n",
        "\n",
        "print(\"Bellman-Ford algorithm:\")\n",
        "g.printArr(g.BellmanFord(0))"
      ]
    },
    {
      "cell_type": "code",
      "execution_count": 341,
      "metadata": {},
      "outputs": [
        {
          "name": "stdout",
          "output_type": "stream",
          "text": [
            "Dijkstra algorithm:\n",
            "Расстояние вершины от источника\n",
            " 0 \t\t  0\n",
            " 1 \t\t -1\n",
            " 2 \t\t  2\n",
            " 3 \t\t -2\n",
            " 4 \t\t  1\n"
          ]
        }
      ],
      "source": [
        "g = graph\n",
        "\n",
        "print(\"Dijkstra algorithm:\")\n",
        "g.printArr(g.dijkstra(0))"
      ]
    },
    {
      "cell_type": "code",
      "execution_count": 342,
      "metadata": {},
      "outputs": [
        {
          "name": "stdout",
          "output_type": "stream",
          "text": [
            "Floyd-Warshall algorithm:\n",
            "Расстояние вершины от источника\n",
            " 0 \t\t  0\n",
            " 1 \t\t -1\n",
            " 2 \t\t  2\n",
            " 3 \t\t -2\n",
            " 4 \t\t  1\n"
          ]
        }
      ],
      "source": [
        "g = graph\n",
        "\n",
        "print(\"Floyd-Warshall algorithm:\")\n",
        "g.printArr(g.floydWarshall())"
      ]
    },
    {
      "cell_type": "code",
      "execution_count": 343,
      "metadata": {},
      "outputs": [
        {
          "name": "stdout",
          "output_type": "stream",
          "text": [
            "Johnson algorithm:\n",
            "Расстояние вершины от источника\n",
            " 0 \t\t  0\n",
            " 1 \t\t -1\n",
            " 2 \t\t  1\n",
            " 3 \t\t -2\n",
            " 4 \t\t  1\n"
          ]
        }
      ],
      "source": [
        "g = graph\n",
        "\n",
        "print(\"Johnson algorithm:\")\n",
        "g.printArr(g.Johnson(0))"
      ]
    },
    {
      "cell_type": "code",
      "execution_count": 344,
      "metadata": {},
      "outputs": [
        {
          "name": "stdout",
          "output_type": "stream",
          "text": [
            "Levit algorithm:\n",
            "Расстояние вершины от источника\n",
            " 0 \t\t  0\n",
            " 1 \t\t -1\n",
            " 2 \t\t  1\n",
            " 3 \t\t -2\n",
            " 4 \t\t  1\n"
          ]
        }
      ],
      "source": [
        "g = graph\n",
        "\n",
        "print(\"Levit algorithm:\")\n",
        "g.printArr(g.levitAlgorithm(0))"
      ]
    },
    {
      "cell_type": "code",
      "execution_count": 345,
      "metadata": {},
      "outputs": [
        {
          "name": "stdout",
          "output_type": "stream",
          "text": [
            "Yen algorithm:\n",
            "Расстояние вершины от источника\n",
            " 0 \t\t  0\n",
            " 1 \t\t -1\n",
            " 2 \t\t  1\n",
            " 3 \t\t -2\n",
            " 4 \t\t  1\n"
          ]
        }
      ],
      "source": [
        "g = graph\n",
        "\n",
        "print(\"Yen algorithm:\")\n",
        "g.printArr(g.yenAlgorithm(0))"
      ]
    },
    {
      "cell_type": "markdown",
      "metadata": {
        "id": "diOb-K7LnO5a"
      },
      "source": [
        "### Вывод"
      ]
    },
    {
      "attachments": {},
      "cell_type": "markdown",
      "metadata": {},
      "source": [
        "\n",
        "| Алгоритм | Временная сложность в худшем случае |\n",
        "| ----------- | ----------- |\n",
        "| Беллман-Форд | O(V * E) |\n",
        "| Дейкстра | O(V^2) |\n",
        "| Флойд-Уоршелл | O(V^3) |\n",
        "| Джонсон | O(V^2 * log V + V * E) |\n",
        "| Левит | O(V * E + V^2 * log V) |\n",
        "| Йен | O(k * (V + E)) (для k-го кратчайшего пути) |"
      ]
    }
  ],
  "metadata": {
    "colab": {
      "provenance": []
    },
    "kernelspec": {
      "display_name": "Python 3 (ipykernel)",
      "language": "python",
      "name": "python3"
    },
    "language_info": {
      "codemirror_mode": {
        "name": "ipython",
        "version": 3
      },
      "file_extension": ".py",
      "mimetype": "text/x-python",
      "name": "python",
      "nbconvert_exporter": "python",
      "pygments_lexer": "ipython3",
      "version": "3.11.2"
    }
  },
  "nbformat": 4,
  "nbformat_minor": 0
}
