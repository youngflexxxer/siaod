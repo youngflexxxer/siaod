{
  "cells": [
    {
      "cell_type": "markdown",
      "metadata": {
        "id": "0z3KlfKDn4_K"
      },
      "source": [
        "# Лабораторная работа 3. \n",
        "# Сетевые алгоритмы. Динамические алгоритмы поиска путей.\n"
      ]
    },
    {
      "cell_type": "markdown",
      "metadata": {
        "id": "96Gi_LEvmSVH"
      },
      "source": [
        "## Выполнил студент группы ФИО ГРУППА\n",
        "***"
      ]
    },
    {
      "cell_type": "markdown",
      "metadata": {
        "id": "GjdIp8aToKIe"
      },
      "source": [
        "### Задание\n",
        "\n",
        "1.  Реализовать алгоритм поиска кратчайшего расстояния между двумя вершинами ориентированного взвешенного графа в соответствии с вариантом. \n",
        "\n",
        "2.  Предусмотреть задание графа в виде матрицы смежности/инцидентности, читаемой из файла, либо графически с помощью пользовательского интерфейса. \n",
        "\n",
        "3.  Разработать графический интерфейс пользователя с визуализацией графа и отображением кратчайшего расстояния между задаваемыми пользователем вершинами.\n",
        "\n",
        "4. По результатам работы проанализировать временную сложность работы заданного алгоритма в зависимости от числа узлов и ребер графа.\n",
        "Данные представить в виде таблицы.\n",
        "\n"
      ]
    },
    {
      "cell_type": "markdown",
      "metadata": {
        "id": "LhhUXrAmotIA"
      },
      "source": [
        "### Алгоритмы:\n",
        "\n",
        "Алгоритм Флойда-Уоршелла| Алгоритм Дейкстры | Алгоритм Беллмана-Форда | Алгоритм Джонсона| Алгоритм Левита | Алгоритм Йена\n",
        "\n"
      ]
    },
    {
      "cell_type": "markdown",
      "metadata": {},
      "source": []
    },
    {
      "cell_type": "markdown",
      "metadata": {},
      "source": []
    },
    {
      "cell_type": "markdown",
      "metadata": {
        "id": "Wggfn8l7nG72"
      },
      "source": [
        "### Выполнение:"
      ]
    },
    {
      "cell_type": "code",
      "execution_count": 62,
      "metadata": {},
      "outputs": [],
      "source": [
        "from collections import defaultdict\n",
        "import networkx as nx\n",
        "import matplotlib.pyplot as plt\n",
        "import heapq"
      ]
    },
    {
      "cell_type": "code",
      "execution_count": 63,
      "metadata": {},
      "outputs": [],
      "source": [
        "from collections import deque\n",
        "\n",
        "\n",
        "class Graph:\n",
        "    def __init__(self, vertices):\n",
        "        self.V = vertices  \n",
        "        self.graph = []  \n",
        "    \n",
        "    # Функция добавления ребра в список смежности\n",
        "    def addEdge(self, u, v, w):\n",
        "        self.graph.append([u, v, w])\n",
        "    \n",
        "    # Функция для вывода расстояний от источника до каждой вершины\n",
        "    def printArr(self, dist):\n",
        "        print(\"Расстояние вершины от источника\")\n",
        "        for i in range(self.V):\n",
        "            if dist[i] == float('inf'):\n",
        "                print(\"% d \\t\\t %s\" % (i, \"0\"))\n",
        "            else:\n",
        "                print(\"% d \\t\\t % d\" % (i, dist[i]))\n",
        "    \n",
        "    # Алгоритм Беллмана-Форда для поиска кратчайших путей от источника до всех остальных вершин в графе.\n",
        "    def BellmanFord(self, src):\n",
        "        dist = [float(\"inf\")] * self.V\n",
        "        dist[src] = 0\n",
        "        for i in range(self.V - 1):\n",
        "            for u, v, w in self.graph:\n",
        "                if dist[u] != float(\"inf\") and dist[u] + w < dist[v]:\n",
        "                    dist[v] = dist[u] + w\n",
        "        return dist\n",
        "\n",
        "    def dijkstra(self, src):\n",
        "        # Инициализируем список расстояний как бесконечности для всех вершин кроме источника\n",
        "        dist = [float('inf')] * self.V\n",
        "        dist[src] = 0\n",
        "        \n",
        "        # Инициализируем очередь с приоритетом и добавляем источник в нее\n",
        "        pq = [(0, src)]\n",
        "        \n",
        "        # Обрабатываем вершины пока очередь не станет пустой\n",
        "        while pq:\n",
        "            # Извлекаем вершину с наименьшим расстоянием из очереди\n",
        "            (curr_dist, curr_node) = heapq.heappop(pq)\n",
        "            \n",
        "            # Перебираем соседей текущей вершины\n",
        "            for (next_node, weight) in self.get_neighbors(curr_node):\n",
        "                # Вычисляем новое расстояние от источника до соседней вершины через текущую вершину\n",
        "                new_dist = curr_dist + weight\n",
        "                \n",
        "                # Если новое расстояние меньше, чем старое, обновляем расстояние и добавляем соседнюю вершину в очередь\n",
        "                if new_dist < dist[next_node]:\n",
        "                    dist[next_node] = new_dist\n",
        "                    heapq.heappush(pq, (new_dist, next_node))\n",
        "        \n",
        "        # Выводим расстояния от источника до каждой вершины\n",
        "        return dist\n",
        "    \n",
        "    def get_neighbors(self, node):\n",
        "        # Возвращает список соседей данной вершины\n",
        "        neighbors = []\n",
        "        for edge in self.graph:\n",
        "            if edge[0] == node:\n",
        "                neighbors.append((edge[1], edge[2]))\n",
        "        return neighbors\n",
        "\n",
        "        # Алгоритм Флойда-Уоршелла\n",
        "    def floydWarshall(self):\n",
        "        dist = [[float('inf')] * self.V for _ in range(self.V)]\n",
        "\n",
        "        # Initialize the distance matrix with the weights of the edges\n",
        "        for u, v, w in self.graph:\n",
        "            dist[u][v] = w\n",
        "\n",
        "        # Floyd-Warshall algorithm\n",
        "        for k in range(self.V):\n",
        "            for i in range(self.V):\n",
        "                for j in range(self.V):\n",
        "                    dist[i][j] = min(dist[i][j], dist[i][k] + dist[k][j])\n",
        "\n",
        "        # Print the shortest distances\n",
        "        return dist[0]\n",
        "    \n",
        "    # Алгоритм Джонсона\n",
        "    def Johnson(self):\n",
        "        # Add a new vertex and edges with zero weight to all other vertices\n",
        "        self.addEdge(self.V, self.V, 0)\n",
        "        for i in range(self.V):\n",
        "            self.addEdge(self.V, i, 0)\n",
        "\n",
        "        # Run Bellman-Ford algorithm to find the minimum distance to all vertices from the new vertex\n",
        "        h = self.BellmanFord(0)\n",
        "\n",
        "        # Re-weight all edges in the graph\n",
        "        for u, v, w in self.graph:\n",
        "            self.graph[self.graph.index([u, v, w])] = [u, v, w + h[u] - h[v]]\n",
        "\n",
        "        # Remove the added vertex and edges\n",
        "        self.graph = self.graph[:-self.graph.V-1]\n",
        "\n",
        "        # Run Dijkstra's algorithm to find the shortest path between all pairs of vertices\n",
        "        dist = [[float('inf') for i in range(self.V)] for j in range(self.V)]\n",
        "        for i in range(self.V):\n",
        "            dist[i] = self.dijkstra(i)\n",
        "\n",
        "            # Re-add the re-weighted values to the original weight\n",
        "            for j in range(self.V):\n",
        "                if dist[i][j] != float('inf'):\n",
        "                    dist[i][j] += h[j] - h[i]\n",
        "\n",
        "        self.printArr(dist[0])\n",
        "    \n",
        "    def levit(self, src):\n",
        "         # Step 1: Initialize distances and labels\n",
        "        dist = [float('inf')] * self.V\n",
        "        dist[src] = 0\n",
        "        labels = ['u'] * self.V\n",
        "        labels[src] = 'm'\n",
        "\n",
        "        # Step 2: Initialize queue and add source vertex\n",
        "        queue = deque()\n",
        "        queue.append(src)\n",
        "\n",
        "        # Step 3: Levit algorithm\n",
        "        visited = set()\n",
        "        while queue:\n",
        "            vertex = queue.popleft()\n",
        "            labels[vertex] = 'p'\n",
        "            visited.add(vertex)\n",
        "\n",
        "            # Relax outgoing edges\n",
        "            for edge in self.graph:\n",
        "                u, v, w = edge\n",
        "                if u == vertex and dist[v] > dist[u] + w:\n",
        "                    dist[v] = dist[u] + w\n",
        "                    if v not in visited:\n",
        "                        queue.append(v)\n",
        "                        labels[v] = 'm'\n",
        "                    elif labels[v] == 'p':\n",
        "                        queue.appendleft(v)\n",
        "                        labels[v] = 'm'\n",
        "\n",
        "            # Relax incoming edges\n",
        "            for edge in self.graph:\n",
        "                u, v, w = edge\n",
        "                if v == vertex and dist[u] > dist[v] + w:\n",
        "                    dist[u] = dist[v] + w\n",
        "                    if u not in visited:\n",
        "                        queue.append(u)\n",
        "                        labels[u] = 'm'\n",
        "                    elif labels[u] == 'p':\n",
        "                        queue.appendleft(u)\n",
        "                        labels[u] = 'm'\n",
        "\n",
        "        self.printArr(dist)\n",
        "    \n",
        "     # Функция для выполнения Yen's алгоритма\n",
        "    def yenAlgorithm(self, src):\n",
        "        # Импорт модуля heapq для реализации приоритетной очереди\n",
        "        import heapq\n",
        "        \n",
        "        # Создаем список для хранения результатов\n",
        "        results = []\n",
        "        \n",
        "        # Создаем список расстояний и инициализируем его значением бесконечности\n",
        "        dist = [float('inf')] * self.V\n",
        "        \n",
        "        # Устанавливаем расстояние от исходной вершины до самой себя равным 0\n",
        "        dist[src] = 0\n",
        "        \n",
        "        # Создаем очередь с приоритетом для обработки вершин\n",
        "        pq = [(0, src)]\n",
        "        \n",
        "        # Пока очередь не пуста\n",
        "        while pq:\n",
        "            # Извлекаем вершину с наименьшим расстоянием\n",
        "            (d, u) = heapq.heappop(pq)\n",
        "            \n",
        "            # Для каждого ребра из текущей вершины\n",
        "            for edge in self.graph:\n",
        "                if edge[0] == u:\n",
        "                    v = edge[1]\n",
        "                    w = edge[2]\n",
        "                    \n",
        "                    # Если найденное расстояние до вершины v меньше, чем текущее известное расстояние\n",
        "                    if dist[v] > dist[u] + w:\n",
        "                        # Обновляем расстояние\n",
        "                        dist[v] = dist[u] + w\n",
        "                        \n",
        "                        # Добавляем вершину v в очередь с приоритетом\n",
        "                        heapq.heappush(pq, (dist[v], v))\n",
        "        \n",
        "        # Выводим результаты с использованием printArr\n",
        "        return dist"
      ]
    },
    {
      "cell_type": "code",
      "execution_count": 64,
      "metadata": {},
      "outputs": [],
      "source": [
        "n = int(input(\"Количество вершин: \"))\n",
        "m = int(input(\"Количество ребер: \"))\n",
        "\n",
        "graph = Graph(n)\n",
        "G = nx.DiGraph()\n",
        "\n",
        "for i in range(m):\n",
        "    u, v, w = tuple(map(int, input(str(i) + \"-е ребро: \").split(\" \")))\n",
        "    graph.addEdge(u, v, w)\n",
        "    G.add_edge(u, v, weight = w)"
      ]
    },
    {
      "cell_type": "code",
      "execution_count": 65,
      "metadata": {},
      "outputs": [
        {
          "data": {
            "image/png": "[encoded data removed]",
            "text/plain": [
              "<Figure size 640x480 with 1 Axes>"
            ]
          },
          "metadata": {},
          "output_type": "display_data"
        }
      ],
      "source": [
        "pos = nx.circular_layout(G)\n",
        "nx.draw(G, pos, with_labels = True)\n",
        "edge_weight = nx.get_edge_attributes(G,'weight')\n",
        "nx.draw_networkx_edge_labels(G, pos, edge_labels = edge_weight)\n",
        "plt.show()"
      ]
    },
    {
      "cell_type": "code",
      "execution_count": 66,
      "metadata": {},
      "outputs": [
        {
          "name": "stdout",
          "output_type": "stream",
          "text": [
            "Bellman-Ford algorithm:\n",
            "Расстояние вершины от источника\n",
            " 0 \t\t  0\n",
            " 1 \t\t -1\n",
            " 2 \t\t  2\n",
            " 3 \t\t -2\n",
            " 4 \t\t  1\n"
          ]
        }
      ],
      "source": [
        "g = graph\n",
        "\n",
        "print(\"Bellman-Ford algorithm:\")\n",
        "g.printArr(g.BellmanFord(0))"
      ]
    },
    {
      "cell_type": "code",
      "execution_count": 67,
      "metadata": {},
      "outputs": [
        {
          "name": "stdout",
          "output_type": "stream",
          "text": [
            "d algorithm:\n",
            "Расстояние вершины от источника\n",
            " 0 \t\t  0\n",
            " 1 \t\t -1\n",
            " 2 \t\t  2\n",
            " 3 \t\t -2\n",
            " 4 \t\t  1\n"
          ]
        }
      ],
      "source": [
        "g = graph\n",
        "\n",
        "print(\"d algorithm:\")\n",
        "g.printArr(g.dijkstra(0))"
      ]
    },
    {
      "cell_type": "code",
      "execution_count": 68,
      "metadata": {},
      "outputs": [
        {
          "name": "stdout",
          "output_type": "stream",
          "text": [
            "f algorithm:\n",
            "Расстояние вершины от источника\n",
            " 0 \t\t 0\n",
            " 1 \t\t -1\n",
            " 2 \t\t  2\n",
            " 3 \t\t -2\n",
            " 4 \t\t  1\n"
          ]
        }
      ],
      "source": [
        "g = graph\n",
        "\n",
        "print(\"f algorithm:\")\n",
        "g.printArr(g.floydWarshall())"
      ]
    },
    {
      "cell_type": "code",
      "execution_count": 69,
      "metadata": {},
      "outputs": [
        {
          "name": "stdout",
          "output_type": "stream",
          "text": [
            "j algorithm:\n"
          ]
        }
      ],
      "source": [
        "g = graph\n",
        "\n",
        "print(\"j algorithm:\")\n",
        "#g.Johnson()"
      ]
    },
    {
      "cell_type": "code",
      "execution_count": 70,
      "metadata": {},
      "outputs": [
        {
          "name": "stdout",
          "output_type": "stream",
          "text": [
            "f algorithm:\n"
          ]
        }
      ],
      "source": [
        "g = graph\n",
        "\n",
        "print(\"f algorithm:\")\n",
        "#g.levit(0)"
      ]
    },
    {
      "cell_type": "code",
      "execution_count": 71,
      "metadata": {},
      "outputs": [
        {
          "name": "stdout",
          "output_type": "stream",
          "text": [
            "Расстояние вершины от источника\n",
            " 0 \t\t  0\n",
            " 1 \t\t -1\n",
            " 2 \t\t  2\n",
            " 3 \t\t -2\n",
            " 4 \t\t  1\n"
          ]
        }
      ],
      "source": [
        "g = graph\n",
        "\n",
        "g.printArr(g.yenAlgorithm(0))"
      ]
    },
    {
      "attachments": {},
      "cell_type": "markdown",
      "metadata": {
        "slideshow": {
          "slide_type": "notes"
        }
      },
      "source": [
        "к-во вершин=5\n",
        "к-во ребер=8\n",
        "0-е ребро: 0 1 -1\n",
        "1-е ребро: 0 2 4\n",
        "2-е ребро: 1 2 3\n",
        "3-е ребро: 1 3 2\n",
        "4-е ребро: 1 4 2\n",
        "5-е ребро: 3 2 5\n",
        "6-е ребро: 3 1 1\n",
        "7-е ребро: 4 3 -3"
      ]
    },
    {
      "cell_type": "markdown",
      "metadata": {
        "id": "diOb-K7LnO5a"
      },
      "source": [
        "### Вывод"
      ]
    }
  ],
  "metadata": {
    "colab": {
      "provenance": []
    },
    "kernelspec": {
      "display_name": "Python 3 (ipykernel)",
      "language": "python",
      "name": "python3"
    },
    "language_info": {
      "codemirror_mode": {
        "name": "ipython",
        "version": 3
      },
      "file_extension": ".py",
      "mimetype": "text/x-python",
      "name": "python",
      "nbconvert_exporter": "python",
      "pygments_lexer": "ipython3",
      "version": "3.11.2"
    }
  },
  "nbformat": 4,
  "nbformat_minor": 0
}
