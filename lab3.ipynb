{
  "cells": [
    {
      "cell_type": "markdown",
      "metadata": {
        "id": "0z3KlfKDn4_K"
      },
      "source": [
        "# Лабораторная работа 3. \n",
        "# Сетевые алгоритмы. Динамические алгоритмы поиска путей.\n"
      ]
    },
    {
      "cell_type": "markdown",
      "metadata": {
        "id": "96Gi_LEvmSVH"
      },
      "source": [
        "## Выполнил студент группы ФИО ГРУППА\n",
        "***"
      ]
    },
    {
      "cell_type": "markdown",
      "metadata": {
        "id": "GjdIp8aToKIe"
      },
      "source": [
        "### Задание\n",
        "\n",
        "1.  Реализовать алгоритм поиска кратчайшего расстояния между двумя вершинами ориентированного взвешенного графа в соответствии с вариантом. \n",
        "\n",
        "2.  Предусмотреть задание графа в виде матрицы смежности/инцидентности, читаемой из файла, либо графически с помощью пользовательского интерфейса. \n",
        "\n",
        "3.  Разработать графический интерфейс пользователя с визуализацией графа и отображением кратчайшего расстояния между задаваемыми пользователем вершинами.\n",
        "\n",
        "4. По результатам работы проанализировать временную сложность работы заданного алгоритма в зависимости от числа узлов и ребер графа.\n",
        "Данные представить в виде таблицы.\n",
        "\n"
      ]
    },
    {
      "cell_type": "markdown",
      "metadata": {
        "id": "LhhUXrAmotIA"
      },
      "source": [
        "### Алгоритмы:\n",
        "\n",
        "Алгоритм Флойда-Уоршелла| Алгоритм Дейкстры | Алгоритм Беллмана-Форда | Алгоритм Джонсона| Алгоритм Левита | Алгоритм Йена\n",
        "\n"
      ]
    },
    {
      "cell_type": "markdown",
      "metadata": {},
      "source": []
    },
    {
      "cell_type": "markdown",
      "metadata": {},
      "source": []
    },
    {
      "cell_type": "markdown",
      "metadata": {
        "id": "Wggfn8l7nG72"
      },
      "source": [
        "### Выполнение:"
      ]
    },
    {
      "cell_type": "code",
      "execution_count": 118,
      "metadata": {},
      "outputs": [],
      "source": [
        "from collections import defaultdict\n",
        "import networkx as nx\n",
        "import matplotlib.pyplot as plt\n",
        "import heapq"
      ]
    },
    {
      "cell_type": "code",
      "execution_count": 119,
      "metadata": {},
      "outputs": [],
      "source": [
        "class Graph:\n",
        "    def __init__(self, vertices):\n",
        "        self.V = vertices  \n",
        "        self.graph = []  \n",
        "    \n",
        "    # Функция добавления ребра в список смежности\n",
        "    def addEdge(self, u, v, w):\n",
        "        self.graph.append([u, v, w])\n",
        "    \n",
        "    # Функция для вывода расстояний от источника до каждой вершины\n",
        "    def printArr(self, dist):\n",
        "        print(\"Расстояние вершины от источника\")\n",
        "        for i in range(self.V):\n",
        "            if dist[i] == float('inf'):\n",
        "                print(\"% d \\t\\t %s\" % (i, \"0\"))\n",
        "            else:\n",
        "                print(\"% d \\t\\t % d\" % (i, dist[i]))\n",
        "    \n",
        "    # Алгоритм Беллмана-Форда для поиска кратчайших путей от источника до всех остальных вершин в графе.\n",
        "    def BellmanFord(self, src):\n",
        "        dist = [float(\"inf\")] * self.V\n",
        "        dist[src] = 0\n",
        "        for i in range(self.V - 1):\n",
        "            for u, v, w in self.graph:\n",
        "                if dist[u] != float(\"inf\") and dist[u] + w < dist[v]:\n",
        "                    dist[v] = dist[u] + w\n",
        "        return dist\n",
        "\n",
        "    def dijkstra(self, src):\n",
        "        dist = [float(\"inf\")] * self.V\n",
        "        dist[src] = 0\n",
        "        spt_set = [False] * self.V\n",
        "\n",
        "        for _ in range(self.V):\n",
        "            u = self.min_distance(dist, spt_set)\n",
        "            spt_set[u] = True\n",
        "            for v in range(self.V):\n",
        "                if (\n",
        "                    self.graph[u][v] > 0\n",
        "                    and not spt_set[v]\n",
        "                    and dist[v] > dist[u] + self.graph[u][v]\n",
        "                ):\n",
        "                    dist[v] = dist[u] + self.graph[u][v]\n",
        "        return dist\n",
        "    \n",
        "    def get_neighbors(self, node):\n",
        "        # Возвращает список соседей данной вершины\n",
        "        neighbors = []\n",
        "        for edge in self.graph:\n",
        "            if edge[0] == node:\n",
        "                neighbors.append((edge[1], edge[2]))\n",
        "        return neighbors\n",
        "\n",
        "        # Алгоритм Флойда-Уоршелла\n",
        "    def floydWarshall(self):\n",
        "        dist = [[float('inf')] * self.V for _ in range(self.V)]\n",
        "\n",
        "        # Initialize the distance matrix with the weights of the edges\n",
        "        for u, v, w in self.graph:\n",
        "            dist[u][v] = w\n",
        "\n",
        "        # Floyd-Warshall algorithm\n",
        "        for k in range(self.V):\n",
        "            for i in range(self.V):\n",
        "                for j in range(self.V):\n",
        "                    dist[i][j] = min(dist[i][j], dist[i][k] + dist[k][j])\n",
        "\n",
        "        # Print the shortest distances\n",
        "        return dist[0]\n",
        "    \n",
        "    # Алгоритм Джонсона\n",
        "    def Johnson(self):\n",
        "        # Add a new vertex with edges to all other vertices with weight 0\n",
        "        self.V += 1\n",
        "        for v in range(self.V - 1):\n",
        "            self.graph.append([self.V - 1, v, 0])\n",
        "        \n",
        "        # Run Bellman-Ford algorithm to get the shortest distances from the newly added vertex\n",
        "        h = self.BellmanFord(self.V - 1)\n",
        "        \n",
        "        # Update the edge weights in the graph using the computed distances\n",
        "        for u, v, w in self.graph:\n",
        "            if h[u] != float('inf'):\n",
        "                self.graph.append([u, v, w + h[u] - h[v]])\n",
        "        \n",
        "        # Initialize an empty list to store the final shortest distances\n",
        "        shortest_dists = []\n",
        "        \n",
        "        # Run Dijkstra's algorithm from each vertex to get the shortest distances\n",
        "        for src in range(self.V - 1):\n",
        "            # Run Dijkstra's algorithm from the current source vertex\n",
        "            dist = self.dijkstra(src)\n",
        "            \n",
        "            # Update the distances using the computed values of h\n",
        "            for i in range(len(dist)):\n",
        "                if dist[i] != float('inf'):\n",
        "                    dist[i] += h[i] - h[src]\n",
        "            \n",
        "            # Append the updated distances to the list of shortest distances\n",
        "            shortest_dists.append(dist[:-1])  # Exclude the distance from the added vertex\n",
        "            \n",
        "        # Return the list of shortest distances\n",
        "        return shortest_dists\n",
        "\n",
        "    \n",
        "    def levitAlgorithm(graph, src):\n",
        "        results = []\n",
        "        dist = [float('inf')] * graph.V\n",
        "        dist[src] = 0\n",
        "        first_layer = [src]\n",
        "        second_layer = []\n",
        "        third_layer = []\n",
        "        in_queue = [False] * graph.V\n",
        "        in_queue[src] = True\n",
        "        processed = [False] * graph.V\n",
        "        \n",
        "        while first_layer or second_layer or third_layer:\n",
        "            while first_layer:\n",
        "                u = first_layer.pop(0)\n",
        "                in_queue[u] = False\n",
        "                processed[u] = True\n",
        "                for edge in graph.graph:\n",
        "                    if edge[0] == u:\n",
        "                        v = edge[1]\n",
        "                        w = edge[2]\n",
        "                        if dist[v] > dist[u] + w:\n",
        "                            dist[v] = dist[u] + w\n",
        "                            if not in_queue[v]:\n",
        "                                in_queue[v] = True\n",
        "                                second_layer.append(v)\n",
        "            \n",
        "            while second_layer:\n",
        "                u = second_layer.pop(0)\n",
        "                in_queue[u] = False\n",
        "                for edge in graph.graph:\n",
        "                    if edge[0] == u:\n",
        "                        v = edge[1]\n",
        "                        w = edge[2]\n",
        "                        if dist[v] > dist[u] + w:\n",
        "                            dist[v] = dist[u] + w\n",
        "                            if not in_queue[v]:\n",
        "                                in_queue[v] = True\n",
        "                                if v not in third_layer:\n",
        "                                    third_layer.append(v)\n",
        "            \n",
        "            while third_layer:\n",
        "                u = third_layer.pop(0)\n",
        "                in_queue[u] = False\n",
        "                processed[u] = True\n",
        "                for edge in graph.graph:\n",
        "                    if edge[0] == u:\n",
        "                        v = edge[1]\n",
        "                        w = edge[2]\n",
        "                        if dist[v] > dist[u] + w:\n",
        "                            dist[v] = dist[u] + w\n",
        "                            if not in_queue[v]:\n",
        "                                in_queue[v] = True\n",
        "                                if v not in second_layer and v not in third_layer:\n",
        "                                    second_layer.append(v)\n",
        "            \n",
        "            # Check for negative cycles\n",
        "            if not first_layer and not second_layer and not third_layer:\n",
        "                for edge in graph.graph:\n",
        "                    u = edge[0]\n",
        "                    v = edge[1]\n",
        "                    w = edge[2]\n",
        "                    if dist[v] > dist[u] + w and processed[u]:\n",
        "                        print(\"Graph contains negative cycle.\")\n",
        "                        return\n",
        "        \n",
        "        graph.printArr(dist)\n",
        "    \n",
        "     # Функция для выполнения Yen's алгоритма\n",
        "    def yenAlgorithm(self, src):\n",
        "        # Импорт модуля heapq для реализации приоритетной очереди\n",
        "        import heapq\n",
        "        \n",
        "        # Создаем список для хранения результатов\n",
        "        results = []\n",
        "        \n",
        "        # Создаем список расстояний и инициализируем его значением бесконечности\n",
        "        dist = [float('inf')] * self.V\n",
        "        \n",
        "        # Устанавливаем расстояние от исходной вершины до самой себя равным 0\n",
        "        dist[src] = 0\n",
        "        \n",
        "        # Создаем очередь с приоритетом для обработки вершин\n",
        "        pq = [(0, src)]\n",
        "        \n",
        "        # Пока очередь не пуста\n",
        "        while pq:\n",
        "            # Извлекаем вершину с наименьшим расстоянием\n",
        "            (d, u) = heapq.heappop(pq)\n",
        "            \n",
        "            # Для каждого ребра из текущей вершины\n",
        "            for edge in self.graph:\n",
        "                if edge[0] == u:\n",
        "                    v = edge[1]\n",
        "                    w = edge[2]\n",
        "                    \n",
        "                    # Если найденное расстояние до вершины v меньше, чем текущее известное расстояние\n",
        "                    if dist[v] > dist[u] + w:\n",
        "                        # Обновляем расстояние\n",
        "                        dist[v] = dist[u] + w\n",
        "                        \n",
        "                        # Добавляем вершину v в очередь с приоритетом\n",
        "                        heapq.heappush(pq, (dist[v], v))\n",
        "        \n",
        "        # Выводим результаты с использованием printArr\n",
        "        return dist"
      ]
    },
    {
      "cell_type": "code",
      "execution_count": 120,
      "metadata": {},
      "outputs": [
        {
          "name": "stdout",
          "output_type": "stream",
          "text": [
            "5 8\n",
            "0 1 -1\n",
            "0 2 4\n",
            "1 2 3\n",
            "1 3 2\n",
            "1 4 2\n",
            "3 2 5\n",
            "3 1 1\n",
            "4 3 -3\n"
          ]
        }
      ],
      "source": [
        "st = open(\"graf.txt\")\n",
        "\n",
        "n = int(st.readline())\n",
        "m = int(st.readline())\n",
        "graph = Graph(n)\n",
        "G = nx.DiGraph()\n",
        "print(n,m)\n",
        "for f in range(m):\n",
        "    u, v, w = tuple(map(int, st.readline().split()))\n",
        "    print(u,v,w)\n",
        "    graph.addEdge(u, v, w)\n",
        "    G.add_edge(u, v, weight = w)\n",
        "\n",
        "'''\n",
        "n = int(input(\"Количество вершин: \"))\n",
        "m = int(input(\"Количество ребер: \"))\n",
        "'''\n",
        "graph = Graph(n)\n",
        "G = nx.DiGraph()\n",
        "\n",
        "\n",
        "    "
      ]
    },
    {
      "cell_type": "code",
      "execution_count": 121,
      "metadata": {},
      "outputs": [
        {
          "data": {
            "image/png": "[encoded data removed]",
            "text/plain": [
              "<Figure size 640x480 with 1 Axes>"
            ]
          },
          "metadata": {},
          "output_type": "display_data"
        }
      ],
      "source": [
        "pos = nx.circular_layout(G)\n",
        "nx.draw(G, pos, with_labels = True)\n",
        "edge_weight = nx.get_edge_attributes(G,'weight')\n",
        "nx.draw_networkx_edge_labels(G, pos, edge_labels = edge_weight)\n",
        "plt.show()"
      ]
    },
    {
      "cell_type": "code",
      "execution_count": 122,
      "metadata": {},
      "outputs": [
        {
          "name": "stdout",
          "output_type": "stream",
          "text": [
            "Bellman-Ford algorithm:\n",
            "Расстояние вершины от источника\n",
            " 0 \t\t  0\n",
            " 1 \t\t 0\n",
            " 2 \t\t 0\n",
            " 3 \t\t 0\n",
            " 4 \t\t 0\n"
          ]
        }
      ],
      "source": [
        "g = graph\n",
        "\n",
        "print(\"Bellman-Ford algorithm:\")\n",
        "g.printArr(g.BellmanFord(0))"
      ]
    },
    {
      "cell_type": "code",
      "execution_count": 123,
      "metadata": {},
      "outputs": [
        {
          "name": "stdout",
          "output_type": "stream",
          "text": [
            "d algorithm:\n"
          ]
        },
        {
          "ename": "AttributeError",
          "evalue": "'Graph' object has no attribute 'min_distance'",
          "output_type": "error",
          "traceback": [
            "\u001b[0;31m---------------------------------------------------------------------------\u001b[0m",
            "\u001b[0;31mAttributeError\u001b[0m                            Traceback (most recent call last)",
            "Cell \u001b[0;32mIn[123], line 4\u001b[0m\n\u001b[1;32m      1\u001b[0m g \u001b[39m=\u001b[39m graph\n\u001b[1;32m      3\u001b[0m \u001b[39mprint\u001b[39m(\u001b[39m\"\u001b[39m\u001b[39md algorithm:\u001b[39m\u001b[39m\"\u001b[39m)\n\u001b[0;32m----> 4\u001b[0m g\u001b[39m.\u001b[39mprintArr(g\u001b[39m.\u001b[39;49mdijkstra(\u001b[39m0\u001b[39;49m))\n",
            "Cell \u001b[0;32mIn[119], line 35\u001b[0m, in \u001b[0;36mGraph.dijkstra\u001b[0;34m(self, src)\u001b[0m\n\u001b[1;32m     32\u001b[0m spt_set \u001b[39m=\u001b[39m [\u001b[39mFalse\u001b[39;00m] \u001b[39m*\u001b[39m \u001b[39mself\u001b[39m\u001b[39m.\u001b[39mV\n\u001b[1;32m     34\u001b[0m \u001b[39mfor\u001b[39;00m _ \u001b[39min\u001b[39;00m \u001b[39mrange\u001b[39m(\u001b[39mself\u001b[39m\u001b[39m.\u001b[39mV):\n\u001b[0;32m---> 35\u001b[0m     u \u001b[39m=\u001b[39m \u001b[39mself\u001b[39;49m\u001b[39m.\u001b[39;49mmin_distance(dist, spt_set)\n\u001b[1;32m     36\u001b[0m     spt_set[u] \u001b[39m=\u001b[39m \u001b[39mTrue\u001b[39;00m\n\u001b[1;32m     37\u001b[0m     \u001b[39mfor\u001b[39;00m v \u001b[39min\u001b[39;00m \u001b[39mrange\u001b[39m(\u001b[39mself\u001b[39m\u001b[39m.\u001b[39mV):\n",
            "\u001b[0;31mAttributeError\u001b[0m: 'Graph' object has no attribute 'min_distance'"
          ]
        }
      ],
      "source": [
        "g = graph\n",
        "\n",
        "print(\"d algorithm:\")\n",
        "g.printArr(g.dijkstra(0))"
      ]
    },
    {
      "cell_type": "code",
      "execution_count": null,
      "metadata": {},
      "outputs": [
        {
          "name": "stdout",
          "output_type": "stream",
          "text": [
            "f algorithm:\n",
            "Расстояние вершины от источника\n",
            " 0 \t\t 0\n",
            " 1 \t\t 0\n",
            " 2 \t\t 0\n",
            " 3 \t\t 0\n",
            " 4 \t\t 0\n"
          ]
        }
      ],
      "source": [
        "g = graph\n",
        "\n",
        "print(\"f algorithm:\")\n",
        "g.printArr(g.floydWarshall())"
      ]
    },
    {
      "cell_type": "code",
      "execution_count": null,
      "metadata": {},
      "outputs": [
        {
          "name": "stdout",
          "output_type": "stream",
          "text": [
            "j algorithm:\n",
            "Unexpected exception formatting exception. Falling back to standard exception\n"
          ]
        },
        {
          "name": "stderr",
          "output_type": "stream",
          "text": [
            "Traceback (most recent call last):\n",
            "  File \"/Users/youngflexxxer/Documents/лабы/siaod/.venv/lib/python3.11/site-packages/IPython/core/interactiveshell.py\", line 3505, in run_code\n",
            "    exec(code_obj, self.user_global_ns, self.user_ns)\n",
            "  File \"/var/folders/6f/m50jdlyj1hq70x62d2ygdn_r0000gn/T/ipykernel_11588/243217980.py\", line 4, in <module>\n",
            "    g.printArr(g.Johnson())\n",
            "               ^^^^^^^^^^^\n",
            "  File \"/var/folders/6f/m50jdlyj1hq70x62d2ygdn_r0000gn/T/ipykernel_11588/2553939069.py\", line -1, in Johnson\n",
            "KeyboardInterrupt\n",
            "\n",
            "During handling of the above exception, another exception occurred:\n",
            "\n",
            "Traceback (most recent call last):\n",
            "  File \"/Users/youngflexxxer/Documents/лабы/siaod/.venv/lib/python3.11/site-packages/IPython/core/interactiveshell.py\", line 2102, in showtraceback\n",
            "    stb = self.InteractiveTB.structured_traceback(\n",
            "          ^^^^^^^^^^^^^^^^^^^^^^^^^^^^^^^^^^^^^^^^\n",
            "  File \"/Users/youngflexxxer/Documents/лабы/siaod/.venv/lib/python3.11/site-packages/IPython/core/ultratb.py\", line 1310, in structured_traceback\n",
            "    return FormattedTB.structured_traceback(\n",
            "           ^^^^^^^^^^^^^^^^^^^^^^^^^^^^^^^^^\n",
            "  File \"/Users/youngflexxxer/Documents/лабы/siaod/.venv/lib/python3.11/site-packages/IPython/core/ultratb.py\", line 1199, in structured_traceback\n",
            "    return VerboseTB.structured_traceback(\n",
            "           ^^^^^^^^^^^^^^^^^^^^^^^^^^^^^^^\n",
            "  File \"/Users/youngflexxxer/Documents/лабы/siaod/.venv/lib/python3.11/site-packages/IPython/core/ultratb.py\", line 1052, in structured_traceback\n",
            "    formatted_exception = self.format_exception_as_a_whole(etype, evalue, etb, number_of_lines_of_context,\n",
            "                          ^^^^^^^^^^^^^^^^^^^^^^^^^^^^^^^^^^^^^^^^^^^^^^^^^^^^^^^^^^^^^^^^^^^^^^^^^^^^^^^^\n",
            "  File \"/Users/youngflexxxer/Documents/лабы/siaod/.venv/lib/python3.11/site-packages/IPython/core/ultratb.py\", line 978, in format_exception_as_a_whole\n",
            "    frames.append(self.format_record(record))\n",
            "                  ^^^^^^^^^^^^^^^^^^^^^^^^^^\n",
            "  File \"/Users/youngflexxxer/Documents/лабы/siaod/.venv/lib/python3.11/site-packages/IPython/core/ultratb.py\", line 878, in format_record\n",
            "    frame_info.lines, Colors, self.has_colors, lvals\n",
            "    ^^^^^^^^^^^^^^^^\n",
            "  File \"/Users/youngflexxxer/Documents/лабы/siaod/.venv/lib/python3.11/site-packages/IPython/core/ultratb.py\", line 712, in lines\n",
            "    return self._sd.lines\n",
            "           ^^^^^^^^^^^^^^\n",
            "  File \"/Users/youngflexxxer/Documents/лабы/siaod/.venv/lib/python3.11/site-packages/stack_data/utils.py\", line 144, in cached_property_wrapper\n",
            "    value = obj.__dict__[self.func.__name__] = self.func(obj)\n",
            "                                               ^^^^^^^^^^^^^^\n",
            "  File \"/Users/youngflexxxer/Documents/лабы/siaod/.venv/lib/python3.11/site-packages/stack_data/core.py\", line 734, in lines\n",
            "    pieces = self.included_pieces\n",
            "             ^^^^^^^^^^^^^^^^^^^^\n",
            "  File \"/Users/youngflexxxer/Documents/лабы/siaod/.venv/lib/python3.11/site-packages/stack_data/utils.py\", line 144, in cached_property_wrapper\n",
            "    value = obj.__dict__[self.func.__name__] = self.func(obj)\n",
            "                                               ^^^^^^^^^^^^^^\n",
            "  File \"/Users/youngflexxxer/Documents/лабы/siaod/.venv/lib/python3.11/site-packages/stack_data/core.py\", line 681, in included_pieces\n",
            "    pos = scope_pieces.index(self.executing_piece)\n",
            "                             ^^^^^^^^^^^^^^^^^^^^\n",
            "  File \"/Users/youngflexxxer/Documents/лабы/siaod/.venv/lib/python3.11/site-packages/stack_data/utils.py\", line 144, in cached_property_wrapper\n",
            "    value = obj.__dict__[self.func.__name__] = self.func(obj)\n",
            "                                               ^^^^^^^^^^^^^^\n",
            "  File \"/Users/youngflexxxer/Documents/лабы/siaod/.venv/lib/python3.11/site-packages/stack_data/core.py\", line 660, in executing_piece\n",
            "    return only(\n",
            "           ^^^^^\n",
            "  File \"/Users/youngflexxxer/Documents/лабы/siaod/.venv/lib/python3.11/site-packages/executing/executing.py\", line 190, in only\n",
            "    raise NotOneValueFound('Expected one value, found 0')\n",
            "executing.executing.NotOneValueFound: Expected one value, found 0\n"
          ]
        }
      ],
      "source": [
        "g = graph\n",
        "\n",
        "print(\"j algorithm:\")\n",
        "g.printArr(g.Johnson())"
      ]
    },
    {
      "cell_type": "code",
      "execution_count": null,
      "metadata": {},
      "outputs": [
        {
          "name": "stdout",
          "output_type": "stream",
          "text": [
            "l algorithm:\n",
            "Расстояние вершины от источника\n",
            " 0 \t\t  0\n",
            " 1 \t\t -1\n",
            " 2 \t\t  2\n",
            " 3 \t\t -2\n",
            " 4 \t\t  1\n"
          ]
        }
      ],
      "source": [
        "g = graph\n",
        "\n",
        "print(\"l algorithm:\")\n",
        "g.levitAlgorithm(0)"
      ]
    },
    {
      "cell_type": "code",
      "execution_count": null,
      "metadata": {},
      "outputs": [
        {
          "name": "stdout",
          "output_type": "stream",
          "text": [
            "Расстояние вершины от источника\n",
            " 0 \t\t  0\n",
            " 1 \t\t 0\n",
            " 2 \t\t 0\n",
            " 3 \t\t 0\n",
            " 4 \t\t 0\n"
          ]
        }
      ],
      "source": [
        "g = graph\n",
        "\n",
        "g.printArr(g.yenAlgorithm(0))"
      ]
    },
    {
      "attachments": {},
      "cell_type": "markdown",
      "metadata": {
        "slideshow": {
          "slide_type": "notes"
        }
      },
      "source": [
        "к-во вершин=5\n",
        "к-во ребер=8\n",
        "0-е ребро: 0 1 -1\n",
        "1-е ребро: 0 2 4\n",
        "2-е ребро: 1 2 3\n",
        "3-е ребро: 1 3 2\n",
        "4-е ребро: 1 4 2\n",
        "5-е ребро: 3 2 5\n",
        "6-е ребро: 3 1 1\n",
        "7-е ребро: 4 3 -3"
      ]
    },
    {
      "cell_type": "markdown",
      "metadata": {
        "id": "diOb-K7LnO5a"
      },
      "source": [
        "### Вывод"
      ]
    }
  ],
  "metadata": {
    "colab": {
      "provenance": []
    },
    "kernelspec": {
      "display_name": "Python 3 (ipykernel)",
      "language": "python",
      "name": "python3"
    },
    "language_info": {
      "codemirror_mode": {
        "name": "ipython",
        "version": 3
      },
      "file_extension": ".py",
      "mimetype": "text/x-python",
      "name": "python",
      "nbconvert_exporter": "python",
      "pygments_lexer": "ipython3",
      "version": "3.11.2"
    }
  },
  "nbformat": 4,
  "nbformat_minor": 0
}
