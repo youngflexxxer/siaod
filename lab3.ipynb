{
  "cells": [
    {
      "cell_type": "markdown",
      "metadata": {
        "id": "0z3KlfKDn4_K"
      },
      "source": [
        "# Лабораторная работа 3. \n",
        "# Сетевые алгоритмы. Динамические алгоритмы поиска путей.\n"
      ]
    },
    {
      "cell_type": "markdown",
      "metadata": {
        "id": "96Gi_LEvmSVH"
      },
      "source": [
        "## Выполнил студент группы ФИО ГРУППА\n",
        "***"
      ]
    },
    {
      "cell_type": "markdown",
      "metadata": {
        "id": "GjdIp8aToKIe"
      },
      "source": [
        "### Задание\n",
        "\n",
        "1.  Реализовать алгоритм поиска кратчайшего расстояния между двумя вершинами ориентированного взвешенного графа в соответствии с вариантом. \n",
        "\n",
        "2.  Предусмотреть задание графа в виде матрицы смежности/инцидентности, читаемой из файла, либо графически с помощью пользовательского интерфейса. \n",
        "\n",
        "3.  Разработать графический интерфейс пользователя с визуализацией графа и отображением кратчайшего расстояния между задаваемыми пользователем вершинами.\n",
        "\n",
        "4. По результатам работы проанализировать временную сложность работы заданного алгоритма в зависимости от числа узлов и ребер графа.\n",
        "Данные представить в виде таблицы.\n",
        "\n"
      ]
    },
    {
      "cell_type": "markdown",
      "metadata": {
        "id": "LhhUXrAmotIA"
      },
      "source": [
        "### Алгоритмы:\n",
        "\n",
        "Алгоритм Флойда-Уоршелла| Алгоритм Дейкстры | Алгоритм Беллмана-Форда | Алгоритм Джонсона| Алгоритм Левита | Алгоритм Йена\n",
        "\n"
      ]
    },
    {
      "cell_type": "markdown",
      "metadata": {
        "id": "Wggfn8l7nG72"
      },
      "source": [
        "### Выполнение:"
      ]
    },
    {
      "cell_type": "code",
      "execution_count": 89,
      "metadata": {},
      "outputs": [],
      "source": [
        "from collections import defaultdict\n",
        "import networkx as nx\n",
        "import matplotlib.pyplot as plt\n",
        "import heapq"
      ]
    },
    {
      "cell_type": "code",
      "execution_count": 90,
      "metadata": {},
      "outputs": [],
      "source": [
        "class Graph:\n",
        "    def __init__(self, vertices):\n",
        "        self.V = vertices  \n",
        "        self.graph = []  \n",
        "    \n",
        "    # Функция добавления ребра в список смежности\n",
        "    def addEdge(self, u, v, w):\n",
        "        self.graph.append([u, v, w])\n",
        "    \n",
        "    # Функция для вывода расстояний от источника до каждой вершины\n",
        "    def printArr(self, dist):\n",
        "        print(\"Расстояние вершины от источника\")\n",
        "        for i in range(self.V):\n",
        "            if dist[i] == float('inf'):\n",
        "                print(\"% d \\t\\t %s\" % (i, \"0\"))\n",
        "            else:\n",
        "                print(\"% d \\t\\t % d\" % (i, dist[i]))\n",
        "    \n",
        "    # Алгоритм Беллмана-Форда для поиска кратчайших путей от источника до всех остальных вершин в графе.\n",
        "    def BellmanFord(self, src):\n",
        "        dist = [float(\"inf\")] * self.V\n",
        "        dist[src] = 0\n",
        "        for i in range(self.V - 1):\n",
        "            for u, v, w in self.graph:\n",
        "                if dist[u] != float(\"inf\") and dist[u] + w < dist[v]:\n",
        "                    dist[v] = dist[u] + w\n",
        "        return dist\n",
        "\n",
        "    def dijkstra(self, src):\n",
        "        # Инициализируем список расстояний как бесконечности для всех вершин кроме источника\n",
        "        dist = [float('inf')] * self.V\n",
        "        dist[src] = 0\n",
        "        \n",
        "        # Инициализируем очередь с приоритетом и добавляем источник в нее\n",
        "        pq = [(0, src)]\n",
        "        \n",
        "        # Обрабатываем вершины пока очередь не станет пустой\n",
        "        while pq:\n",
        "            # Извлекаем вершину с наименьшим расстоянием из очереди\n",
        "            (curr_dist, curr_node) = heapq.heappop(pq)\n",
        "            \n",
        "            # Перебираем соседей текущей вершины\n",
        "            for (next_node, weight) in self.get_neighbors(curr_node):\n",
        "                # Вычисляем новое расстояние от источника до соседней вершины через текущую вершину\n",
        "                new_dist = curr_dist + weight\n",
        "                \n",
        "                # Если новое расстояние меньше, чем старое, обновляем расстояние и добавляем соседнюю вершину в очередь\n",
        "                if new_dist < dist[next_node]:\n",
        "                    dist[next_node] = new_dist\n",
        "                    heapq.heappush(pq, (new_dist, next_node))\n",
        "        \n",
        "        # Выводим расстояния от источника до каждой вершины\n",
        "        return dist\n",
        "    \n",
        "    def get_neighbors(self, node):\n",
        "        # Возвращает список соседей данной вершины\n",
        "        neighbors = []\n",
        "        for edge in self.graph:\n",
        "            if edge[0] == node:\n",
        "                neighbors.append((edge[1], edge[2]))\n",
        "        return neighbors\n",
        "\n",
        "\n",
        "    def floydWarshall(self):\n",
        "        dist = [[float('inf')] * self.V for _ in range(self.V)]\n",
        "\n",
        "        # Initialize the distance matrix with the weights of the edges\n",
        "        for u, v, w in self.graph:\n",
        "            dist[u][v] = w\n",
        "\n",
        "        # Floyd-Warshall algorithm\n",
        "        for k in range(self.V):\n",
        "            for i in range(self.V):\n",
        "                for j in range(self.V):\n",
        "                    dist[i][j] = min(dist[i][j], dist[i][k] + dist[k][j])\n",
        "\n",
        "        # Print the shortest distances\n",
        "        return dist[0]\n",
        "    \n",
        "    def Johnson(self):\n",
        "        # Add a new vertex and edges with zero weight to all other vertices\n",
        "        self.addEdge(self.V, self.V, 0)\n",
        "        for i in range(self.V):\n",
        "            self.addEdge(self.V, i, 0)\n",
        "\n",
        "        # Run Bellman-Ford algorithm to find the minimum distance to all vertices from the new vertex\n",
        "        h = self.BellmanFord(0)\n",
        "\n",
        "        # Re-weight all edges in the graph\n",
        "        for u, v, w in self.graph:\n",
        "            self.graph[self.graph.index([u, v, w])] = [u, v, w + h[u] - h[v]]\n",
        "\n",
        "        # Remove the added vertex and edges\n",
        "        self.graph = self.graph[:-self.graph.V-1]\n",
        "\n",
        "        # Run Dijkstra's algorithm to find the shortest path between all pairs of vertices\n",
        "        dist = [[float('inf') for i in range(self.V)] for j in range(self.V)]\n",
        "        for i in range(self.V):\n",
        "            dist[i] = self.dijkstra(i)\n",
        "\n",
        "            # Re-add the re-weighted values to the original weight\n",
        "            for j in range(self.V):\n",
        "                if dist[i][j] != float('inf'):\n",
        "                    dist[i][j] += h[j] - h[i]\n",
        "\n",
        "        self.printArr(dist[0])"
      ]
    },
    {
      "cell_type": "code",
      "execution_count": 91,
      "metadata": {},
      "outputs": [],
      "source": [
        "n = int(input(\"Количество вершин: \"))\n",
        "m = int(input(\"Количество ребер: \"))\n",
        "\n",
        "graph = Graph(n)\n",
        "G = nx.DiGraph()\n",
        "\n",
        "for i in range(m):\n",
        "    u, v, w = tuple(map(int, input(str(i) + \"-е ребро: \").split(\" \")))\n",
        "    graph.addEdge(u, v, w)\n",
        "    G.add_edge(u, v, weight = w)"
      ]
    },
    {
      "cell_type": "code",
      "execution_count": 92,
      "metadata": {},
      "outputs": [
        {
          "data": {
            "image/png": "[encoded data removed]",
            "text/plain": [
              "<Figure size 640x480 with 1 Axes>"
            ]
          },
          "metadata": {},
          "output_type": "display_data"
        }
      ],
      "source": [
        "pos = nx.circular_layout(G)\n",
        "nx.draw(G, pos, with_labels = True)\n",
        "edge_weight = nx.get_edge_attributes(G,'weight')\n",
        "nx.draw_networkx_edge_labels(G, pos, edge_labels = edge_weight)\n",
        "plt.show()"
      ]
    },
    {
      "cell_type": "code",
      "execution_count": 93,
      "metadata": {},
      "outputs": [
        {
          "name": "stdout",
          "output_type": "stream",
          "text": [
            "Bellman-Ford algorithm:\n",
            "Расстояние вершины от источника\n",
            " 0 \t\t  0\n",
            " 1 \t\t -1\n",
            " 2 \t\t -2\n",
            " 3 \t\t  1\n",
            " 4 \t\t  1\n"
          ]
        }
      ],
      "source": [
        "g = graph\n",
        "\n",
        "print(\"Bellman-Ford algorithm:\")\n",
        "g.printArr(g.BellmanFord(0))"
      ]
    },
    {
      "cell_type": "code",
      "execution_count": 94,
      "metadata": {},
      "outputs": [
        {
          "name": "stdout",
          "output_type": "stream",
          "text": [
            "d algorithm:\n",
            "Расстояние вершины от источника\n",
            " 0 \t\t  0\n",
            " 1 \t\t -1\n",
            " 2 \t\t -2\n",
            " 3 \t\t  1\n",
            " 4 \t\t  1\n"
          ]
        }
      ],
      "source": [
        "g = graph\n",
        "\n",
        "print(\"d algorithm:\")\n",
        "g.printArr(g.dijkstra(0))"
      ]
    },
    {
      "cell_type": "code",
      "execution_count": 95,
      "metadata": {},
      "outputs": [
        {
          "name": "stdout",
          "output_type": "stream",
          "text": [
            "f algorithm:\n",
            "Расстояние вершины от источника\n",
            " 0 \t\t 0\n",
            " 1 \t\t -1\n",
            " 2 \t\t -2\n",
            " 3 \t\t  1\n",
            " 4 \t\t  1\n"
          ]
        }
      ],
      "source": [
        "g = graph\n",
        "\n",
        "print(\"f algorithm:\")\n",
        "g.printArr(g.floydWarshall())"
      ]
    },
    {
      "cell_type": "code",
      "execution_count": 96,
      "metadata": {},
      "outputs": [
        {
          "name": "stdout",
          "output_type": "stream",
          "text": [
            "j algorithm:\n"
          ]
        },
        {
          "ename": "AttributeError",
          "evalue": "'int' object has no attribute 'BellmanFord'",
          "output_type": "error",
          "traceback": [
            "\u001b[0;31m---------------------------------------------------------------------------\u001b[0m",
            "\u001b[0;31mAttributeError\u001b[0m                            Traceback (most recent call last)",
            "Cell \u001b[0;32mIn[96], line 4\u001b[0m\n\u001b[1;32m      1\u001b[0m g \u001b[39m=\u001b[39m graph\n\u001b[1;32m      3\u001b[0m \u001b[39mprint\u001b[39m(\u001b[39m\"\u001b[39m\u001b[39mj algorithm:\u001b[39m\u001b[39m\"\u001b[39m)\n\u001b[0;32m----> 4\u001b[0m g\u001b[39m.\u001b[39;49mJohnson()\n",
            "Cell \u001b[0;32mIn[90], line 87\u001b[0m, in \u001b[0;36mGraph.Johnson\u001b[0;34m(self)\u001b[0m\n\u001b[1;32m     84\u001b[0m     \u001b[39mself\u001b[39m\u001b[39m.\u001b[39maddEdge(\u001b[39mself\u001b[39m\u001b[39m.\u001b[39mV, i, \u001b[39m0\u001b[39m)\n\u001b[1;32m     86\u001b[0m \u001b[39m# Run Bellman-Ford algorithm to find the minimum distance to all vertices from the new vertex\u001b[39;00m\n\u001b[0;32m---> 87\u001b[0m h \u001b[39m=\u001b[39m \u001b[39mself\u001b[39;49m\u001b[39m.\u001b[39;49mV\u001b[39m.\u001b[39;49mBellmanFord(\u001b[39m0\u001b[39m)\n\u001b[1;32m     89\u001b[0m \u001b[39m# Re-weight all edges in the graph\u001b[39;00m\n\u001b[1;32m     90\u001b[0m \u001b[39mfor\u001b[39;00m u, v, w \u001b[39min\u001b[39;00m \u001b[39mself\u001b[39m\u001b[39m.\u001b[39mgraph:\n",
            "\u001b[0;31mAttributeError\u001b[0m: 'int' object has no attribute 'BellmanFord'"
          ]
        }
      ],
      "source": [
        "g = graph\n",
        "\n",
        "print(\"j algorithm:\")\n",
        "g.Johnson()"
      ]
    },
    {
      "attachments": {},
      "cell_type": "markdown",
      "metadata": {
        "slideshow": {
          "slide_type": "notes"
        }
      },
      "source": [
        "к-во вершин=5\n",
        "к-во ребер=8\n",
        "0-е ребро: 0 1 -1\n",
        "1-е ребро: 0 2 4\n",
        "2-е ребро: 1 2 3\n",
        "3-е ребро: 1 3 2\n",
        "4-е ребро: 1 4 2\n",
        "5-е ребро: 3 2 5\n",
        "6-е ребро: 3 1 1\n",
        "7-е ребро: 4 3 -3"
      ]
    },
    {
      "cell_type": "markdown",
      "metadata": {
        "id": "diOb-K7LnO5a"
      },
      "source": [
        "### Вывод"
      ]
    }
  ],
  "metadata": {
    "colab": {
      "provenance": []
    },
    "kernelspec": {
      "display_name": "Python 3 (ipykernel)",
      "language": "python",
      "name": "python3"
    },
    "language_info": {
      "codemirror_mode": {
        "name": "ipython",
        "version": 3
      },
      "file_extension": ".py",
      "mimetype": "text/x-python",
      "name": "python",
      "nbconvert_exporter": "python",
      "pygments_lexer": "ipython3",
      "version": "3.11.2"
    }
  },
  "nbformat": 4,
  "nbformat_minor": 0
}
