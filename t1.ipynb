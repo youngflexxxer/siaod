{
 "cells": [
  {
   "attachments": {},
   "cell_type": "markdown",
   "metadata": {},
   "source": [
    "Контрольные задачи по дисциплине СиАОД №1\n",
    "Задача 1. «Треугольник с максимальным периметром»\n",
    "\n",
    "Массив A состоит из целых положительных чисел ­ длин отрезков. Составьте из трех отрезков такой треугольник, чтобы его периметр был максимально возможным. Если невозможно\n",
    "составить треугольник с положительной площадью ­ функция возвращает 0.\n",
    "\n",
    "Пример 1.1:\n",
    "Ввод: [2,1,2]\n",
    "Вывод: 5\n",
    "\n",
    "Пример 1.2:\n",
    "Ввод: [1,2,1]\n",
    "Вывод: 0\n",
    "\n",
    "Пример 1.3:\n",
    "Ввод: [3,2,3,4]\n",
    "Вывод: 10\n",
    "\n",
    "Пример 1.4:\n",
    "Ввод: [3,6,2,3]\n",
    "Вывод: 8\n",
    "\n",
    "Ограничения:\n",
    "• 3 ⩽ len(A) ⩽ 10000\n",
    "\n",
    "• 1 ⩽ A[i] ⩽ 106\n",
    "\n",
    "Задача 2. «Максимальное число»\n",
    "\n",
    "Дан массив неотрицательных целых чисел nums. Расположите их в таком порядке, чтобы\n",
    "вместе они образовали максимально возможное число.\n",
    "Замечание: Результат может быть очень большим числом, поэтому представьте его как\n",
    "string, а не integer.\n",
    "\n",
    "Пример 2.1:\n",
    "Ввод: nums = [10,2]\n",
    "Вывод: ”210”\n",
    "\n",
    "Пример 2.2:\n",
    "Ввод: nums = [3,30,34,5,9]\n",
    "Вывод: ”9534330”\n",
    "\n",
    "Пример 2.3:\n",
    "Ввод: nums = [1]\n",
    "Вывод: ”1”\n",
    "\n",
    "Пример 2.4:\n",
    "Ввод: nums = [10]\n",
    "Вывод: ”10”\n",
    "\n",
    "Ограничения:\n",
    "• 1 ⩽ len(nums) ⩽ 100\n",
    "\n",
    "• 0 ⩽ nums[i] ⩽ 109\n",
    "\n",
    "Задача 3. «Сортировка диагоналей в матрице»\n",
    "\n",
    "Дана матрица mat размером m * n, значения ­ целочисленные. Напишите функцию, сортирующую каждую диагональ матрицы по возрастанию и возвращающую получившуюся матрицу.\n",
    "\n",
    "Пример 3.1:\n",
    "\n",
    "Ввод: mat = [[3, 3, 1, 1], [2, 2, 1, 2], [1, 1, 1, 2]]\n",
    "\n",
    "Вывод: [[1, 1, 1, 1], [1, 2, 2, 2], [1, 2, 3, 3]]\n",
    "\n",
    "Пример 3.2:\n",
    "\n",
    "Ввод: mat = [[11, 25, 66, 1, 69, 7], [23, 55, 17, 45, 15, 52], [75, 31, 36,\n",
    "44, 58, 8], [22, 27, 33, 25, 68, 4], [84, 28, 14, 11, 5, 50]]\n",
    "\n",
    "Вывод: [[5, 17, 4, 1, 52, 7], [11, 11, 25, 45, 8, 69], [14, 23, 25, 44, 58,\n",
    "15], [22, 27, 31, 36, 50, 66], [84, 28, 75, 33, 55, 68]]\n",
    "\n",
    "Ограничения:\n",
    "\n",
    "• m == len(mat)\n",
    "\n",
    "• n == len(mat[i])\n",
    "\n",
    "• 1 ⩽ m, n ⩽ 100\n",
    "\n",
    "• 1 ⩽ mat[i][j] ⩽ 100\n"
   ]
  },
  {
   "attachments": {},
   "cell_type": "markdown",
   "metadata": {},
   "source": [
    "***Задача 1***"
   ]
  },
  {
   "cell_type": "code",
   "execution_count": 1,
   "metadata": {},
   "outputs": [],
   "source": [
    "def maximum_perimeter(A):\n",
    "    maxper = 0\n",
    "    for i0 in range(len(A)):\n",
    "        for i1 in range(len(A)):\n",
    "            for i2 in range(len(A)):\n",
    "                if i1 == i2 or i1 == i0 or i0 == i2:\n",
    "                    continue\n",
    "                if A[i0] + A[i1] > A[i2] and A[i0] + A[i2] > A[i1] and A[i1] + A[i2] > A[i0]:\n",
    "                    maxper = max(maxper, A[i0] + A[i1] + A[i2])\n",
    "    return maxper\n",
    "\n"
   ]
  },
  {
   "cell_type": "code",
   "execution_count": 2,
   "metadata": {},
   "outputs": [
    {
     "name": "stdout",
     "output_type": "stream",
     "text": [
      "Исходные длины: 4 56 6 8\n",
      "Максимальный периметр = 18\n"
     ]
    }
   ],
   "source": [
    "A = list(map(int,input('введите длины отрезков (через пробел)').split()))\n",
    "print('Исходные длины:',*A)\n",
    "print('Максимальный периметр =',maximum_perimeter(A))"
   ]
  },
  {
   "attachments": {},
   "cell_type": "markdown",
   "metadata": {},
   "source": [
    "***Задача 2***"
   ]
  },
  {
   "cell_type": "code",
   "execution_count": 3,
   "metadata": {},
   "outputs": [
    {
     "name": "stdout",
     "output_type": "stream",
     "text": [
      "9534303\n"
     ]
    }
   ],
   "source": [
    "def largestNumber(nums):\n",
    "    nums = list(map(str, nums)) # преобразуем числа в строки\n",
    "    nums.sort(reverse=True) # сортируем по убыванию\n",
    "    return str(''.join(nums)) # объединяем числа в строку и преобразуем в число\n",
    "\n",
    "nums = [3,30,34,5,9]\n",
    "print(largestNumber(nums))"
   ]
  },
  {
   "attachments": {},
   "cell_type": "markdown",
   "metadata": {},
   "source": [
    "***Задача 3***"
   ]
  },
  {
   "cell_type": "code",
   "execution_count": 4,
   "metadata": {},
   "outputs": [
    {
     "name": "stdout",
     "output_type": "stream",
     "text": [
      "[[1, 1, 1, 1], [1, 2, 2, 2], [1, 2, 3, 3]]\n"
     ]
    }
   ],
   "source": [
    "def sort_diagonal(mat):\n",
    "    \"\"\"Функция сортирует каждую диагональ матрицы по возрастанию\"\"\"\n",
    "\n",
    "    m, n = len(mat), len(mat[0])\n",
    "\n",
    "    # Сортируем верхнюю половину диагоналей.\n",
    "    for i in range(m):\n",
    "        # Начинаем с верхнего края каждой диагонали.\n",
    "        row, col = i, 0\n",
    "        diagonal = []\n",
    "        while row < m and col < n:\n",
    "            diagonal.append(mat[row][col])\n",
    "            row += 1\n",
    "            col += 1\n",
    "        diagonal.sort()\n",
    "        # Вставляем отсортированные значения обратно в матрицу.\n",
    "        row, col = i, 0\n",
    "        for value in diagonal:\n",
    "            mat[row][col] = value\n",
    "            row += 1\n",
    "            col += 1\n",
    "\n",
    "    # Сортируем нижнюю половину диагоналей.\n",
    "    for j in range(1, n):\n",
    "        # Начинаем с левого края каждой диагонали.\n",
    "        row, col = 0, j\n",
    "        diagonal = []\n",
    "        while row < m and col < n:\n",
    "            diagonal.append(mat[row][col])\n",
    "            row += 1\n",
    "            col += 1\n",
    "        diagonal.sort()\n",
    "        # Вставляем отсортированные значения обратно в матрицу.\n",
    "        row, col = 0, j\n",
    "        for value in diagonal:\n",
    "            mat[row][col] = value\n",
    "            row += 1\n",
    "            col += 1\n",
    "\n",
    "    return mat\n",
    "\n",
    "mat = [[3, 3, 1, 1], [2, 2, 1, 2], [1, 1, 1, 2]]\n",
    "print(sort_diagonal(mat))"
   ]
  }
 ],
 "metadata": {
  "kernelspec": {
   "display_name": ".venv",
   "language": "python",
   "name": "python3"
  },
  "language_info": {
   "codemirror_mode": {
    "name": "ipython",
    "version": 3
   },
   "file_extension": ".py",
   "mimetype": "text/x-python",
   "name": "python",
   "nbconvert_exporter": "python",
   "pygments_lexer": "ipython3",
   "version": "3.11.3"
  },
  "orig_nbformat": 4
 },
 "nbformat": 4,
 "nbformat_minor": 2
}
