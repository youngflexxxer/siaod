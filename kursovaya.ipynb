{
 "cells": [
  {
   "attachments": {},
   "cell_type": "markdown",
   "metadata": {},
   "source": [
    "### Курсовая работа\n",
    "\n",
    "Написать программу, которая будет считывать данные из CSV файла, содержащего информацию о продажах товаров в магазине. Данные в файле содержатся в следующем формате:\n",
    "| Номер заказа | Дата заказа | Название товара | Категория товара | Количество продаж | Цена за единицу | Общая стоимость |\n",
    "Необходимо:\n",
    "1. Рассчитать общую выручку магазина.\n",
    "2. Найти товар, который был продан наибольшее количество раз.\n",
    "3. Найти товар, который принес наибольшую выручку.\n",
    "4. Составить отчет, содержащий информацию об общей выручке магазина, количестве проданных единиц каждого товар и доле каждого товара в общей выручке.\n",
    "Для решения задач необходимо использовать структуры данных, такие как массивы и хеш-таблицы, а также различные алгоритмы обработки данных, например, сортировку и поиск. Также необходимо учитывать возможные ошибки ввода-вывода и обрабатывать их в соответствии с требованиями."
   ]
  },
  {
   "cell_type": "code",
   "execution_count": 10,
   "metadata": {},
   "outputs": [
    {
     "name": "stdout",
     "output_type": "stream",
     "text": [
      "Общая выручка магазина: 241 969 500 (руб.)\n",
      "Товар, который продан максимальное количество раз: Apple iPhone 14\n",
      "Товар, который принес наибольшую выручку: Apple iPhone 14\n",
      "Продано: \n",
      "\tApple iPhone 14 - 500 шт. (18.59% от общей выручки)\n",
      "\tSamsung Galaxy S22 Ultra - 300 шт. (12.39% от общей выручки)\n",
      "\tИгровые приставки - 200 шт. (4.95% от общей выручки)\n",
      "\tLG OLED TV - 150 шт. (11.15% от общей выручки)\n",
      "\tApple MacBook Pro 16 - 100 шт. (8.26% от общей выручки)\n",
      "\tCanon EOS R7 - 50 шт. (5.16% от общей выручки)\n",
      "\tBose QuietComfort 55 - 100 шт. (1.44% от общей выручки)\n",
      "\tSamsung Galaxy Tab S8 - 75 шт. (2.16% от общей выручки)\n",
      "\tDJI Mavic 3 - 25 шт. (1.54% от общей выручки)\n",
      "\tPhilips Hue Smart Bulbs - 500 шт. (0.61% от общей выручки)\n",
      "\tApple iPad Pro 12.9 - 200 шт. (7.43% от общей выручки)\n",
      "\tSony PlayStation 5 Pro - 100 шт. (2.47% от общей выручки)\n",
      "\tSamsung Galaxy Watch 5 - 150 шт. (1.85% от общей выручки)\n",
      "\tLG UltraFine - 50 шт. (2.06% от общей выручки)\n",
      "\tCanon EOS R8 - 75 шт. (9.29% от общей выручки)\n",
      "\tBose SoundLink Revolve+ - 100 шт. (1.03% от общей выручки)\n",
      "\tDJI Ronin 4D - 25 шт. (5.16% от общей выручки)\n",
      "\tSamsung Galaxy Book Pro - 50 шт. (2.68% от общей выручки)\n",
      "\tPhilips Sonicare DiamondClean - 200 шт. (0.82% от общей выручки)\n",
      "\tNest Learning Thermostat - 100 шт. (0.82% от общей выручки)\n",
      "\n"
     ]
    }
   ],
   "source": [
    "import csv\n",
    "\n",
    "def total_store_revenue(csvfile):\n",
    "    total_store_revenue = 0\n",
    "    for line in csvfile:\n",
    "        total_store_revenue += int(line['Общая стоимость'])\n",
    "    return total_store_revenue\n",
    "\n",
    "def max_count_sold_position(csvfile):\n",
    "    max_count = 0\n",
    "    max_position_name = ''\n",
    "    for line in csvfile:\n",
    "        if int(line['Количество продаж']) > max_count:\n",
    "            max_count = int(line['Количество продаж'])\n",
    "            max_position_name = line['Название товара']\n",
    "    return max_position_name\n",
    "\n",
    "def max_sold_position(csvfile):\n",
    "    max_revenue = 0\n",
    "    max_position_name = ''\n",
    "    for line in csvfile:\n",
    "        if int(line['Общая стоимость']) > max_revenue:\n",
    "            max_revenue = int(line['Общая стоимость'])\n",
    "            max_position_name = line['Название товара']\n",
    "    return max_position_name\n",
    "\n",
    "with open('table.csv', 'r', encoding='utf-8') as file:\n",
    "    reader = csv.DictReader(file, delimiter=';')\n",
    "    float_total_store_revenue = total_store_revenue(reader)\n",
    "    total_store_revenue = '{0:,}'.format(float_total_store_revenue).replace(',', ' ')\n",
    "    \n",
    "    print(f'Общая выручка магазина: {total_store_revenue} (руб.)')\n",
    "\n",
    "with open('table.csv', 'r', encoding='utf-8') as file:\n",
    "    reader = csv.DictReader(file, delimiter=';')\n",
    "    print(f'Товар, который продан максимальное количество раз: {max_count_sold_position(reader)}')\n",
    "\n",
    "with open('table.csv', 'r', encoding='utf-8') as file:\n",
    "    reader = csv.DictReader(file, delimiter=';')\n",
    "    print(f'Товар, который принес наибольшую выручку: {max_sold_position(reader)}')\n",
    "\n",
    "\n",
    "with open('table.csv', 'r', encoding='utf-8') as file:\n",
    "    result = ''\n",
    "    percent_in_total = 0\n",
    "    reader = csv.DictReader(file, delimiter=';')\n",
    "    for line in reader:\n",
    "        percent_in_total = 100*float(line['Общая стоимость']) / (float(float_total_store_revenue))\n",
    "        result += '\\t' + line['Название товара'] + ' - ' + line['Количество продаж'] + ' шт.' + f' ({int(100*percent_in_total)/100}% от общей выручки)' +'\\n'\n",
    "\n",
    "    print('Продано: ' + '\\n'+ result)\n"
   ]
  }
 ],
 "metadata": {
  "kernelspec": {
   "display_name": "Python 3",
   "language": "python",
   "name": "python3"
  },
  "language_info": {
   "codemirror_mode": {
    "name": "ipython",
    "version": 3
   },
   "file_extension": ".py",
   "mimetype": "text/x-python",
   "name": "python",
   "nbconvert_exporter": "python",
   "pygments_lexer": "ipython3",
   "version": "3.11.3"
  },
  "orig_nbformat": 4
 },
 "nbformat": 4,
 "nbformat_minor": 2
}
