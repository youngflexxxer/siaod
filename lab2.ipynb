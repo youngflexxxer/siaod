{
  "cells": [
    {
      "cell_type": "markdown",
      "id": "fifteen-sailing",
      "metadata": {
        "id": "fifteen-sailing"
      },
      "source": [
        "# Лабораторная работа №4\n",
        "## Выполнил студент группы БСТ2103 Гадасин Даниил\n"
      ]
    },
    {
      "cell_type": "markdown",
      "id": "arctic-stocks",
      "metadata": {
        "id": "arctic-stocks"
      },
      "source": [
        "Реализовать следующие структуры данных:\n",
        "  \n",
        "● <b> Стек (stack): </b>  \n",
        "Операции для стека: \n",
        "<i> инициализация, проверка на пустоту, добавление нового элемента в начало, извлечение элемента из начала;  </i>  \n",
        "  \n",
        "● <b> Дек (двусторонняя очередь, deque):  </b>  \n",
        "Операции для дека: \n",
        "<i> инициализация, проверка на пустоту, добавление нового элемента в начало, добавление нового элемента в конец, извлечение элемента из начала, извлечение элемента из конца. </i>  \n",
        "  \n",
        "<i> Разработать программу обработки данных, содержащихся в заранее подготовленном txt-файле, в соответствии с заданиями, применив указанную в задании структуру данных. Результат работы программы вывести на экран и сохранить в отдельном txt-файле. </i>"
      ]
    },
    {
      "cell_type": "markdown",
      "id": "5d7edb08",
      "metadata": {
        "scrolled": true,
        "id": "5d7edb08"
      },
      "source": [
        "### Задание №1\n",
        "Отсортировать строки файла, содержащие названия книг, в алфавитном порядке с использованием двух деков."
      ]
    },
    {
      "cell_type": "code",
      "source": [
        "from string import ascii_letters\n",
        "from collections import deque\n",
        "from random import shuffle"
      ],
      "metadata": {
        "id": "MpOPCsSetlxJ"
      },
      "id": "MpOPCsSetlxJ",
      "execution_count": null,
      "outputs": []
    },
    {
      "cell_type": "code",
      "execution_count": null,
      "id": "17702ade",
      "metadata": {
        "id": "17702ade"
      },
      "outputs": [],
      "source": [
        "def sort(text: str) -> str:\n",
        "    d1 = deque(text.split('\\n'))\n",
        "    d2 = deque()\n",
        "\n",
        "    while d1:\n",
        "        temp = d1.pop()\n",
        "        while d2 and d2.__getitem__(-1) > temp:\n",
        "            d1.appendleft(d2.pop())\n",
        "        d2.append(temp)\n",
        "\n",
        "    return '\\n'.join(d2)"
      ]
    },
    {
      "cell_type": "code",
      "source": [
        "input_file = open('task1.txt', 'r')\n",
        "res = sort(input_file.read())\n",
        "input_file.close()\n",
        "\n",
        "print(res)"
      ],
      "metadata": {
        "colab": {
          "base_uri": "https://localhost:8080/"
        },
        "id": "qigQAGATtwUm",
        "outputId": "d56fd552-8cf4-4133-d33b-988d446af8d0"
      },
      "id": "qigQAGATtwUm",
      "execution_count": null,
      "outputs": [
        {
          "output_type": "stream",
          "name": "stdout",
          "text": [
            "dwedewdew\n",
            "dwedewdweed\n",
            "wedwedwd\n"
          ]
        }
      ]
    },
    {
      "cell_type": "markdown",
      "id": "49fbd2a0",
      "metadata": {
        "id": "49fbd2a0"
      },
      "source": [
        "### Задание №2\n",
        "Дек содержит последовательность символов для шифровки сообщений. Дан текстовый файл, содержащий зашифрованное сообщение. Пользуясь деком, расшифровать текст. \n",
        "Известно, что при шифровке каждый символ сообщения заменялся следующим за ним в деке по часовой стрелке через один."
      ]
    },
    {
      "cell_type": "code",
      "execution_count": null,
      "id": "81cab7a8",
      "metadata": {
        "id": "81cab7a8"
      },
      "outputs": [],
      "source": [
        "ALPHABET = [char for char in ascii_letters] + \\\n",
        "           [chr(i) for i in range(ord('а'), ord('я') + 1)] + \\\n",
        "           [chr(i) for i in range(ord('А'), ord('Я') + 1)]\n",
        "shuffle(ALPHABET)\n",
        "CODING_ALPHABET = deque(ALPHABET)"
      ]
    },
    {
      "cell_type": "code",
      "source": [
        "def encode(char: str) -> str:\n",
        "    if not char.isalpha():\n",
        "        return char\n",
        "    while CODING_ALPHABET:\n",
        "        temp = CODING_ALPHABET.popleft()\n",
        "        if temp == char:\n",
        "            CODING_ALPHABET.append(char)\n",
        "            result = CODING_ALPHABET.popleft()\n",
        "            CODING_ALPHABET.append(result)\n",
        "            return result\n",
        "        CODING_ALPHABET.append(temp)"
      ],
      "metadata": {
        "id": "ehJGINPduPJR"
      },
      "id": "ehJGINPduPJR",
      "execution_count": null,
      "outputs": []
    },
    {
      "cell_type": "code",
      "source": [
        "def decode(char: str) -> str:\n",
        "    while CODING_ALPHABET:\n",
        "        if not char.isalpha():\n",
        "            return char\n",
        "        temp = CODING_ALPHABET.pop()\n",
        "        if temp == char:\n",
        "            CODING_ALPHABET.appendleft(temp)\n",
        "            result = CODING_ALPHABET.pop()\n",
        "            CODING_ALPHABET.appendleft(result)\n",
        "            return result\n",
        "        CODING_ALPHABET.appendleft(temp)"
      ],
      "metadata": {
        "id": "G7UGnfECuSnM"
      },
      "id": "G7UGnfECuSnM",
      "execution_count": null,
      "outputs": []
    },
    {
      "cell_type": "code",
      "source": [
        "file = open('task2.txt', 'r')\n",
        "input_text = file.read()\n",
        "file.close()\n",
        "\n",
        "print(f'Исходный текст: {input_text}')\n",
        "\n",
        "decoded_text = ''\n",
        "for char in input_text:\n",
        "    decoded_text += decode(char)\n",
        "print(f'Расшифровка: {decoded_text}')\n",
        "\n",
        "encoded_text = ''\n",
        "for char in decoded_text:\n",
        "    encoded_text += encode(char)\n",
        "print(f'Шифровка: {encoded_text}')"
      ],
      "metadata": {
        "colab": {
          "base_uri": "https://localhost:8080/"
        },
        "id": "SYv1F0cqufdk",
        "outputId": "485c487c-30db-43b1-aba7-a784d4f06890"
      },
      "id": "SYv1F0cqufdk",
      "execution_count": null,
      "outputs": [
        {
          "output_type": "stream",
          "name": "stdout",
          "text": [
            "Исходный текст: абвгд\n",
            "Расшифровка: DFГnь\n",
            "Шифровка: абвгд\n"
          ]
        }
      ]
    },
    {
      "cell_type": "markdown",
      "id": "c0894f47",
      "metadata": {
        "id": "c0894f47"
      },
      "source": [
        "### Задание №3\n",
        "Даны три стержня и n дисков различного размера. Диски можно надевать на стержни, образуя из них башни. Перенести n дисков со стержня А на стержень С, сохранив их первоначальный порядок. При переносе дисков необходимо соблюдать следующие правила:\n",
        "- на каждом шаге со стержня на стержень переносить только один диск;\n",
        "- диск нельзя помещать на диск меньшего размера;\n",
        "- для промежуточного хранения можно использовать стержень В.\n",
        "Реализовать алгоритм, используя три стека вместо стержней А, В, С. Информация о дисках хранится в исходном файле."
      ]
    },
    {
      "cell_type": "code",
      "execution_count": null,
      "id": "9e91a9d4",
      "metadata": {
        "id": "9e91a9d4"
      },
      "outputs": [],
      "source": [
        "def move(a: list[int], b: list[int]) -> None:\n",
        "    if len(a) == 0 and len(b) > 0:\n",
        "        a.append(b.pop())\n",
        "    elif len(a) > 0 and len(b) == 0:\n",
        "        b.append(a.pop())\n",
        "    elif a[-1] > b[-1]:\n",
        "        a.append(b.pop())\n",
        "    else:\n",
        "        b.append(a.pop())"
      ]
    },
    {
      "cell_type": "code",
      "source": [
        "n = int(input('Введите количество стержней: '))\n",
        "\n",
        "A = list(range(n, 0, -1))\n",
        "B = []\n",
        "C = []\n",
        "\n",
        "if n % 2 == 0:\n",
        "    while len(C) != n:\n",
        "        move(A, B)\n",
        "        move(A, C)\n",
        "        move(B, C)\n",
        "else:\n",
        "    while len(C) != n:\n",
        "        move(A, C)\n",
        "        move(A, B)\n",
        "        move(B, C)\n",
        "\n",
        "print('\\n'.join(map(str, C)))"
      ],
      "metadata": {
        "colab": {
          "base_uri": "https://localhost:8080/"
        },
        "id": "OPtCBUG5vlbY",
        "outputId": "ea9114f6-f2d8-4305-afba-311361853a02"
      },
      "id": "OPtCBUG5vlbY",
      "execution_count": null,
      "outputs": [
        {
          "output_type": "stream",
          "name": "stdout",
          "text": [
            "Введите количество стержней: 4\n",
            "4\n",
            "3\n",
            "2\n",
            "1\n"
          ]
        }
      ]
    },
    {
      "cell_type": "markdown",
      "id": "e5b0be17",
      "metadata": {
        "id": "e5b0be17"
      },
      "source": [
        "### Задание №4\n",
        "Дан текстовый файл с программой на алгоритмическом языке. За один просмотр файла проверить баланс круглых скобок в тексте, используя стек."
      ]
    },
    {
      "cell_type": "code",
      "execution_count": null,
      "id": "5b1df60a",
      "metadata": {
        "id": "5b1df60a"
      },
      "outputs": [],
      "source": [
        "def check_circle_brackets(text: str) -> bool:\n",
        "    stack = []\n",
        "    for char in text:\n",
        "        if char == '(':\n",
        "            stack.append(char)\n",
        "        elif char == ')':\n",
        "            if not stack:\n",
        "                return False\n",
        "            stack.pop()\n",
        "    return len(stack) == 0"
      ]
    },
    {
      "cell_type": "code",
      "source": [
        "file = open('task4.txt', 'r')\n",
        "text = file.read()\n",
        "file.close()\n",
        "\n",
        "print(check_circle_brackets(text))"
      ],
      "metadata": {
        "colab": {
          "base_uri": "https://localhost:8080/"
        },
        "id": "MRPE9JOYv-R0",
        "outputId": "fd4b781b-9edd-4bad-8a29-a034542120ae"
      },
      "id": "MRPE9JOYv-R0",
      "execution_count": null,
      "outputs": [
        {
          "output_type": "stream",
          "name": "stdout",
          "text": [
            "False\n"
          ]
        }
      ]
    },
    {
      "cell_type": "markdown",
      "id": "c44cdd6b",
      "metadata": {
        "id": "c44cdd6b"
      },
      "source": [
        "### Задание №5\n",
        "Дан текстовый файл с программой на алгоритмическом языке. За один просмотр файла проверить баланс квадратных скобок в тексте, используя дек."
      ]
    },
    {
      "cell_type": "code",
      "execution_count": null,
      "id": "36b8f400",
      "metadata": {
        "id": "36b8f400"
      },
      "outputs": [],
      "source": [
        "def check_square_brackets(text: str) -> bool:\n",
        "    stack = deque()\n",
        "    for char in text:\n",
        "        if char == '[':\n",
        "            stack.append(char)\n",
        "        elif char == ']':\n",
        "            if not stack:\n",
        "                return False\n",
        "            stack.pop()\n",
        "    return len(stack) == 0"
      ]
    },
    {
      "cell_type": "code",
      "source": [
        "file = open('task5.txt', 'r')\n",
        "text = file.read()\n",
        "file.close()\n",
        "\n",
        "print(check_square_brackets(text))"
      ],
      "metadata": {
        "colab": {
          "base_uri": "https://localhost:8080/"
        },
        "id": "IAX5-5ftwU3N",
        "outputId": "2a32c421-06d8-471b-962a-b9449ee24cae"
      },
      "id": "IAX5-5ftwU3N",
      "execution_count": null,
      "outputs": [
        {
          "output_type": "stream",
          "name": "stdout",
          "text": [
            "True\n"
          ]
        }
      ]
    },
    {
      "cell_type": "markdown",
      "id": "59d13dc7",
      "metadata": {
        "id": "59d13dc7"
      },
      "source": [
        "### Задание №6\n",
        "Дан файл из символов. Используя стек, за один просмотр файла напечатать сначала все цифры, затем все буквы, и, наконец, все остальные символы, сохраняя исходный порядок в каждой группе символов."
      ]
    },
    {
      "cell_type": "code",
      "execution_count": null,
      "id": "297e36c2",
      "metadata": {
        "id": "297e36c2"
      },
      "outputs": [],
      "source": [
        "def nums_chars_symbols(text: str) -> str:\n",
        "    nums = []\n",
        "    chars = []\n",
        "    symbols = []\n",
        "\n",
        "    for char in text:\n",
        "        if char.isdigit():\n",
        "            nums.append(char)\n",
        "        elif char.isalpha():\n",
        "            chars.append(char)\n",
        "        else:\n",
        "            symbols.append(char)\n",
        "\n",
        "    return f\"{''.join(nums[::-1])}{''.join(chars[::-1])}{''.join(symbols[::-1])}\""
      ]
    },
    {
      "cell_type": "code",
      "source": [
        "file = open('task6.txt', 'r')\n",
        "text = file.read()\n",
        "file.close()\n",
        "\n",
        "print(nums_chars_symbols(text))"
      ],
      "metadata": {
        "colab": {
          "base_uri": "https://localhost:8080/"
        },
        "id": "0wzXCBjBwke2",
        "outputId": "581af448-1905-4186-d0da-c33052be722c"
      },
      "id": "0wzXCBjBwke2",
      "execution_count": null,
      "outputs": [
        {
          "output_type": "stream",
          "name": "stdout",
          "text": [
            "3222232232ddedddyvebiudbeb;/...\n"
          ]
        }
      ]
    },
    {
      "cell_type": "markdown",
      "id": "973f68bd",
      "metadata": {
        "id": "973f68bd"
      },
      "source": [
        "### Задание №7\n",
        "Дан файл из целых чисел. Используя дек, за один просмотр файла напечатать сначала все отрицательные числа, затем все положительные числа, сохраняя исходный порядок в каждой группе."
      ]
    },
    {
      "cell_type": "code",
      "execution_count": null,
      "id": "c56fad66",
      "metadata": {
        "id": "c56fad66"
      },
      "outputs": [],
      "source": [
        "def negatives_positives(text: str) -> str:\n",
        "    nums = text.split(' ')\n",
        "    temp = deque()\n",
        "\n",
        "    for i in range(len(nums) - 1, -1, -1):\n",
        "        num = nums[i]\n",
        "        if int(num) >= 0:\n",
        "            temp.append(num)\n",
        "        else:\n",
        "            temp.appendleft(num)\n",
        "\n",
        "    res = ''\n",
        "    \n",
        "    while temp:\n",
        "        num = temp.popleft()\n",
        "        if int(num) < 0:\n",
        "            res += num + ' '\n",
        "        else:\n",
        "            temp.appendleft(num)\n",
        "            break\n",
        "    \n",
        "    while temp:\n",
        "        num = temp.pop()\n",
        "        res += num + ' '\n",
        "    \n",
        "    return res[:-1]"
      ]
    },
    {
      "cell_type": "code",
      "source": [
        "file = open('task7.txt', 'r')\n",
        "text = file.read()\n",
        "file.close()\n",
        "\n",
        "print(negatives_positives(text))"
      ],
      "metadata": {
        "colab": {
          "base_uri": "https://localhost:8080/"
        },
        "id": "KJdsFPbLw1bi",
        "outputId": "c7a710fb-ab94-40dd-8a9a-b25402f409ab"
      },
      "id": "KJdsFPbLw1bi",
      "execution_count": null,
      "outputs": [
        {
          "output_type": "stream",
          "name": "stdout",
          "text": [
            "-3 -10 -2 -1 0 9 9 7 8 0\n"
          ]
        }
      ]
    },
    {
      "cell_type": "markdown",
      "id": "b9228191",
      "metadata": {
        "id": "b9228191"
      },
      "source": [
        "### Задание №8\n",
        "Дан текстовый файл. Используя стек, сформировать новый текстовый файл, содержащий строки исходного файла, записанные в обратном порядке: первая строка становится последней, вторая – предпоследней и т.д."
      ]
    },
    {
      "cell_type": "code",
      "execution_count": null,
      "id": "981fbdfe",
      "metadata": {
        "id": "981fbdfe"
      },
      "outputs": [],
      "source": [
        "def reverse_file(text: str) -> None:\n",
        "    stack = text.split('\\n')\n",
        "\n",
        "    while len(stack):\n",
        "        print(stack.pop())"
      ]
    },
    {
      "cell_type": "code",
      "source": [
        "file = open('task8.txt', 'r')\n",
        "text = file.read()\n",
        "file.close()\n",
        "\n",
        "reverse_file(text)"
      ],
      "metadata": {
        "colab": {
          "base_uri": "https://localhost:8080/"
        },
        "id": "xP1skRc9xBxa",
        "outputId": "8d9887ec-db6b-4272-aea8-f9a565a3fb91"
      },
      "id": "xP1skRc9xBxa",
      "execution_count": null,
      "outputs": [
        {
          "output_type": "stream",
          "name": "stdout",
          "text": [
            "f\n",
            "e\n",
            "d\n",
            "c\n",
            "b\n",
            "a\n"
          ]
        }
      ]
    },
    {
      "cell_type": "markdown",
      "id": "rental-jerusalem",
      "metadata": {
        "id": "rental-jerusalem"
      },
      "source": [
        "### Вывод\n"
      ]
    },
    {
      "cell_type": "markdown",
      "id": "0c2b8899",
      "metadata": {
        "id": "0c2b8899"
      },
      "source": []
    }
  ],
  "metadata": {
    "kernelspec": {
      "display_name": "Python 3 (ipykernel)",
      "language": "python",
      "name": "python3"
    },
    "language_info": {
      "codemirror_mode": {
        "name": "ipython",
        "version": 3
      },
      "file_extension": ".py",
      "mimetype": "text/x-python",
      "name": "python",
      "nbconvert_exporter": "python",
      "pygments_lexer": "ipython3",
      "version": "3.10.2"
    },
    "colab": {
      "provenance": []
    }
  },
  "nbformat": 4,
  "nbformat_minor": 5
}