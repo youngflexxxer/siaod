{
 "cells": [
  {
   "attachments": {},
   "cell_type": "markdown",
   "metadata": {},
   "source": [
    "ЗАДАЧА 1\n",
    "Даны две строки: s1 и s2 с одинаковым размером, проверьте, может ли\n",
    "некоторая перестановка строки s1 “победить” некоторую перестановку\n",
    "строки s2 или наоборот.\n",
    "\n",
    "Строка x может “победить” строку y (обе имеют размер n), если x[i]> = y\n",
    "[i] (в алфавитном порядке) для всех i от 0 до n-1.\n",
    "\n",
    "Примеры:\n",
    "\n",
    "Input: s1 = \"abc\", s2 = \"xya\"\n",
    "\n",
    "Output: true\n",
    "\n",
    "Объяснение: «ayx» - это перестановка строки s2 = «xya»,\n",
    "которая “побеждает” строку s1 = «abc».\n",
    "\n",
    "Input: s1 = \"abe\", s2 = \"acd\"\n",
    "\n",
    "Output: false\n",
    "\n",
    "Объяснение: Все перестановки для s1 = \"abe\": \"abe\", \"aeb\",\n",
    "\"bae\", \"bea\", \"eab\" и \"eba\", а все перестановки для s2 =\n",
    "\"acd\": \"acd\", «adc», «cad», «cda», «dac» и «ca». Однако нет\n",
    "никакой перестановки строки s1, которая может нарушить\n",
    "некоторую перестановку строки s2 и наоборот.\n",
    "\n",
    "s1.length == n\n",
    "\n",
    "s2.length == n\n",
    "\n",
    "1 <= n <= 10^5\n",
    "\n",
    "ЗАДАЧА 2\n",
    "\n",
    "Дана строка s, вернуть самую длинную полиндромную подстроку в s.\n",
    "\n",
    "Примеры:\n",
    "\n",
    "Input: s = \"babad\"\n",
    "\n",
    "Output: \"bab\"\n",
    "\n",
    "Note: \"aba\" is also a valid answer.\n",
    "\n",
    "Input: s = \"cbbd\"\n",
    "\n",
    "Output: \"bb\"\n",
    "\n",
    "ЗАДАЧА 3\n",
    "\n",
    "Вернуть количество отдельных непустых подстрок текста, которые могут\n",
    "быть записаны как конкатенация некоторой строки с самой собой (т.е. она\n",
    "может быть записана, как a + a, где a - некоторая строка).\n",
    "\n",
    "Примеры:\n",
    "\n",
    "Input: text = \"abcabcabc\"\n",
    "\n",
    "Output: 3\n",
    "\n",
    "Explanation: The 3 substrings are \"abcabc\", \"bcabca\"\n",
    "\n",
    "and \"cabcab\"."
   ]
  },
  {
   "cell_type": "code",
   "execution_count": 1,
   "metadata": {},
   "outputs": [
    {
     "name": "stdout",
     "output_type": "stream",
     "text": [
      "False\n"
     ]
    }
   ],
   "source": [
    "s1 = 'abe'\n",
    "s2 = 'acd'\n",
    "\n",
    "def canS1win(x,y):\n",
    "    can_s1_win = True\n",
    "    # Преобразуем строки в массивы символов и сортируем их\n",
    "    s1_chars = sorted(list(x))\n",
    "    s2_chars = sorted(list(y))\n",
    "\n",
    "    # Проверяем, может ли s1 победить s2\n",
    "    for i in range(len(x)):\n",
    "        if s1_chars[i] < s2_chars[i]:\n",
    "            can_s1_win = False\n",
    "            break\n",
    "    # Возвращаем результат\n",
    "    return can_s1_win\n",
    "\n",
    "print(canS1win(s1, s2))"
   ]
  },
  {
   "cell_type": "code",
   "execution_count": 2,
   "metadata": {},
   "outputs": [
    {
     "name": "stdout",
     "output_type": "stream",
     "text": [
      "hghghghgghghghgghghghgh\n"
     ]
    }
   ],
   "source": [
    "s = 'cbhghghghghgghghghgghghghghjggjhggjhjgjgjgjgjhjjhgjhghgghjgjhhjgjhgjgjhgjhjghjghjhjghjghjhjghjghjgjhgjhgj'\n",
    "\n",
    "def longestPalindrome(s):\n",
    "    longest = \"\"\n",
    "    for start in range(len(s)): # перебираем все возможные подстроки\n",
    "        for i in range(start+1, len(s)+1):\n",
    "            substring = s[start:i] # Срез строки\n",
    "            if substring == substring[::-1] and len(substring) > len(longest): # проверяем, является ли подстрока палиндромом и длиннее ли она текущего самого длинного палиндрома\n",
    "                longest = substring\n",
    "    return longest\n",
    "\n",
    "print(longestPalindrome(s))"
   ]
  },
  {
   "cell_type": "code",
   "execution_count": 3,
   "metadata": {},
   "outputs": [
    {
     "name": "stdout",
     "output_type": "stream",
     "text": [
      "3\n"
     ]
    }
   ],
   "source": [
    "text = 'abcabcabc'\n",
    "\n",
    "def countConcatenatedSubstrings(s: str) -> int:\n",
    "    result = set()\n",
    "    n = len(s)\n",
    "    for i in range(n):\n",
    "        for j in range(i+1, n):\n",
    "            half = (j - i) // 2\n",
    "            if s[i:i+half] == s[i+half:j]:\n",
    "                result.add(s[i:i+half])\n",
    "    return len(result)\n",
    "\n",
    "print(countConcatenatedSubstrings(text))"
   ]
  }
 ],
 "metadata": {
  "kernelspec": {
   "display_name": "Python 3",
   "language": "python",
   "name": "python3"
  },
  "language_info": {
   "codemirror_mode": {
    "name": "ipython",
    "version": 3
   },
   "file_extension": ".py",
   "mimetype": "text/x-python",
   "name": "python",
   "nbconvert_exporter": "python",
   "pygments_lexer": "ipython3",
   "version": "3.11.2"
  },
  "orig_nbformat": 4
 },
 "nbformat": 4,
 "nbformat_minor": 2
}
