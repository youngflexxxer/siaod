{
 "cells": [
  {
   "cell_type": "code",
   "execution_count": 1,
   "metadata": {},
   "outputs": [
    {
     "name": "stdout",
     "output_type": "stream",
     "text": [
      "False\n"
     ]
    }
   ],
   "source": [
    "s1 = 'abe'\n",
    "s2 = 'acd'\n",
    "\n",
    "def canS1win(x,y):\n",
    "    can_s1_win = True\n",
    "    # Преобразуем строки в массивы символов и сортируем их\n",
    "    s1_chars = sorted(list(x))\n",
    "    s2_chars = sorted(list(y))\n",
    "\n",
    "    # Проверяем, может ли s1 победить s2\n",
    "    for i in range(len(x)):\n",
    "        if s1_chars[i] < s2_chars[i]:\n",
    "            can_s1_win = False\n",
    "            break\n",
    "    # Возвращаем результат\n",
    "    return can_s1_win\n",
    "\n",
    "print(canS1win(s1, s2))"
   ]
  },
  {
   "cell_type": "code",
   "execution_count": 2,
   "metadata": {},
   "outputs": [
    {
     "name": "stdout",
     "output_type": "stream",
     "text": [
      "bb\n"
     ]
    }
   ],
   "source": [
    "s = 'cbbd'\n",
    "\n",
    "def longestPalindrome(s):\n",
    "    longest = \"\"\n",
    "    for start in range(len(s)): # перебираем все возможные подстроки\n",
    "        for i in range(start+1, len(s)+1):\n",
    "            substring = s[start:i] # Срез строки\n",
    "            if substring == substring[::-1] and len(substring) > len(longest): # проверяем, является ли подстрока палиндромом и длиннее ли она текущего самого длинного палиндрома\n",
    "                longest = substring\n",
    "    return longest\n",
    "\n",
    "print(longestPalindrome(s))"
   ]
  },
  {
   "cell_type": "code",
   "execution_count": 3,
   "metadata": {},
   "outputs": [
    {
     "name": "stdout",
     "output_type": "stream",
     "text": [
      "3\n"
     ]
    }
   ],
   "source": [
    "text = 'abcabcabc'\n",
    "\n",
    "def countConcatenatedSubstrings(s: str) -> int:\n",
    "    result = set()\n",
    "    n = len(s)\n",
    "    for i in range(n):\n",
    "        for j in range(i+1, n):\n",
    "            half = (j - i) // 2\n",
    "            if s[i:i+half] == s[i+half:j]:\n",
    "                result.add(s[i:i+half])\n",
    "    return len(result)\n",
    "\n",
    "print(countConcatenatedSubstrings(text))"
   ]
  }
 ],
 "metadata": {
  "kernelspec": {
   "display_name": "Python 3",
   "language": "python",
   "name": "python3"
  },
  "language_info": {
   "codemirror_mode": {
    "name": "ipython",
    "version": 3
   },
   "file_extension": ".py",
   "mimetype": "text/x-python",
   "name": "python",
   "nbconvert_exporter": "python",
   "pygments_lexer": "ipython3",
   "version": "3.10.2"
  },
  "orig_nbformat": 4
 },
 "nbformat": 4,
 "nbformat_minor": 2
}
