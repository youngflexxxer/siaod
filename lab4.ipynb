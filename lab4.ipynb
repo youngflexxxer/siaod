{
 "cells": [
  {
   "attachments": {
    "image.png": {
     "image/png": "[encoded data removed]"
    }
   },
   "cell_type": "markdown",
   "metadata": {},
   "source": [
    "\n",
    "# Задание 1\n",
    "Реализовать методы поиска в соответствии с заданием. Организовать генерацию\n",
    "начального набора случайных данных. Для всех вариантов добавить реализацию\n",
    "добавления, поиска и удаления элементов. Оценить время работы каждого алгоритма\n",
    "поиска и сравнить его со временем работы стандартной функции поиска, используемой в\n",
    "выбранном языке программирования. \n",
    "![image.png](attachment:image.png)"
   ]
  },
  {
   "cell_type": "code",
   "execution_count": 109,
   "metadata": {},
   "outputs": [],
   "source": [
    "import random\n",
    "import time\n",
    "def random_arr(m = 50, min_limit = -250, max_limit = 1013):\n",
    "    import random\n",
    "    return [random.randint(min_limit, max_limit) for _ in range(m)]"
   ]
  },
  {
   "cell_type": "code",
   "execution_count": 110,
   "metadata": {},
   "outputs": [],
   "source": [
    "# Бинарный поиск\n",
    "def BinSearch(arr, x):\n",
    "    i = 0\n",
    "    j = len(arr)-1\n",
    "    while i < j:\n",
    "        m = int((i+j)/2)\n",
    "        if x > arr[m]:\n",
    "            i = m+1\n",
    "        else:\n",
    "            j = m\n",
    "    return j"
   ]
  },
  {
   "cell_type": "code",
   "execution_count": 111,
   "metadata": {},
   "outputs": [
    {
     "name": "stdout",
     "output_type": "stream",
     "text": [
      "[-23, -17, -14, -5, 1, 4, 7, 11, 34, 36, 39, 44, 79, 96, 100]\n",
      "--- 0.0 seconds ---\n",
      "Это элемент под номером  4\n"
     ]
    }
   ],
   "source": [
    "newMatrix = random_arr(15, -25, 100)\n",
    "newMatrix.sort()\n",
    "print (newMatrix)\n",
    "k=1\n",
    "import time\n",
    "start = time.time()\n",
    "f=BinSearch(newMatrix, k)\n",
    "end=time.time()\n",
    "print(\"--- %s seconds ---\" % (end-start))\n",
    "if newMatrix[f] == k:\n",
    "    print (\"Это элемент под номером \", f)\n",
    "else: print (\"Данного элемента в массиве нет\")\n",
    "s=(input(\"Хотите добавить данный элемент в массив?\"))\n",
    "if s == \"y\":\n",
    "    newMatrix.insert(f, k)\n",
    "    print (newMatrix)\n",
    "if newMatrix[f] == k: \n",
    "    s=(input(\"Хотите удалить данный элемент из массива?\"))\n",
    "    if s == \"y\":\n",
    "        newMatrix.pop(f)\n",
    "        print (newMatrix)"
   ]
  },
  {
   "cell_type": "code",
   "execution_count": 112,
   "metadata": {},
   "outputs": [],
   "source": [
    "# Фибоначчиев поиск\n",
    "def FibonacciSearch(mas, pol):\n",
    "    fibM_minus_2 = 0 \n",
    "    fibM_minus_1 = 1  \n",
    "    fibM = fibM_minus_1 + fibM_minus_2\n",
    "    while (fibM < len(mas)):\n",
    "        fibM_minus_2 = fibM_minus_1\n",
    "        fibM_minus_1 = fibM\n",
    "        fibM = fibM_minus_1 + fibM_minus_2\n",
    "    # Отмечает исключенный диапазон спереди\n",
    "    index = -1\n",
    "    # пока есть элементы для проверки\n",
    "    while (fibM > 1):\n",
    "        # Проверьте, является ли fibM_minus_2 действительным местоположением\n",
    "        i = min(index + fibM_minus_2, (len(mas)-1))\n",
    "        # Если х больше значения в\n",
    "        # index fibM_minus_2, вырезать массив подмассива\n",
    "        # от смещения до i\n",
    "        if (mas[i] < pol):\n",
    "            fibM = fibM_minus_1\n",
    "            fibM_minus_1 = fibM_minus_2\n",
    "            fibM_minus_2 = fibM - fibM_minus_1\n",
    "            index = i\n",
    "        # Если х больше значения в\n",
    "        # index fibM_minus_2, вырезать подмассив\n",
    "        # после того, как я + 1\n",
    "        elif (mas[i] > pol):\n",
    "            fibM = fibM_minus_2\n",
    "            fibM_minus_1 = fibM_minus_1 - fibM_minus_2\n",
    "            fibM_minus_2 = fibM - fibM_minus_1\n",
    "        # элемент найден. индекс возврата\n",
    "        else :\n",
    "            return i\n",
    "    # сравнение последнего элемента с x * /\n",
    "    if(fibM_minus_1 and index<(len(mas)-1) and mas[index+1] == pol):\n",
    "        return index+1\n",
    "    # элемент не найден. возврат -1\n",
    "    return -1"
   ]
  },
  {
   "cell_type": "code",
   "execution_count": 113,
   "metadata": {},
   "outputs": [
    {
     "name": "stdout",
     "output_type": "stream",
     "text": [
      "[-23, -11, 9, 25, 30, 31, 40, 42, 44, 46, 63, 65, 79, 80, 99]\n",
      "--- 0.0 seconds ---\n",
      "Данного элемента в массиве нет\n"
     ]
    }
   ],
   "source": [
    "newMatrix = random_arr(15, -25, 100)\n",
    "newMatrix.sort()\n",
    "print (newMatrix)\n",
    "k=12\n",
    "n=len(newMatrix)\n",
    "import time\n",
    "start = time.time()\n",
    "g=FibonacciSearch(newMatrix, k)\n",
    "end=time.time()\n",
    "print(\"--- %s seconds ---\" % (end-start))\n",
    "if newMatrix[g] == k:\n",
    "    print (\"Это элемент под номером \",g)\n",
    "else: print (\"Данного элемента в массиве нет\")\n",
    "s=(input(\"Хотите добавить данный элемент в массив?\"))\n",
    "if s == \"y\":\n",
    "    newMatrix.insert(g, k)\n",
    "    print (newMatrix)\n",
    "if newMatrix[g]==k:\n",
    "    s=(input(\"Хотите удалить данный элемент из массива?\"))\n",
    "    if s==\"y\":\n",
    "        newMatrix.pop(g)\n",
    "        print(newMatrix)"
   ]
  },
  {
   "cell_type": "code",
   "execution_count": 114,
   "metadata": {},
   "outputs": [],
   "source": [
    "# Интерполяционный поиск\n",
    "def interpolation(arr, k) : \n",
    "    # Найти индексы двух углов\n",
    "    left = 0  \n",
    "    right = len(arr) - 1  \n",
    "    # Так как массив отсортирован, элемент присутствует\n",
    "    # в массиве должен быть в диапазоне, определенном углом\n",
    "    while arr[left] < k and k < arr[right]:\n",
    "        mid = int(left + (k - arr[left]) * (right - left) / (arr[right] - arr[left]))  # pos=mid=формула положения зонда\n",
    "        if arr[mid] < k:\n",
    "            left = mid + 1\n",
    "        elif arr[mid] > k:\n",
    "            right = mid - 1\n",
    "        else:\n",
    "            return mid\n",
    "\n",
    "    # Состояние цели найдено\n",
    "    if arr[left] == k:\n",
    "        return left\n",
    "    # Если х больше, х в верхней части\n",
    "    elif arr[right] == k:\n",
    "        return right\n",
    "    # Если х меньше, х находится в нижней части\n",
    "    else:\n",
    "        return left"
   ]
  },
  {
   "cell_type": "code",
   "execution_count": 115,
   "metadata": {},
   "outputs": [
    {
     "name": "stdout",
     "output_type": "stream",
     "text": [
      "[-12, -5, 1, 3, 17, 17, 32, 48, 52, 61, 65, 71, 81, 84, 95]\n",
      "--- 0.23788022994995117 seconds ---\n",
      "Это элемент под номером  3\n"
     ]
    }
   ],
   "source": [
    "newMatrix = random_arr(15, -25, 100)\n",
    "newMatrix.sort()\n",
    "print (newMatrix)\n",
    "k=3\n",
    "import time\n",
    "start_time = time.time()\n",
    "g=interpolation(newMatrix, k)\n",
    "end=time.time()\n",
    "print(\"--- %s seconds ---\" % (end-start))\n",
    "if newMatrix[g] == k:\n",
    "    print (\"Это элемент под номером \",g)\n",
    "else: print (\"Данного элемента в массиве нет\")\n",
    "s=(input(\"Хотите добавить данный элемент в массив?\"))\n",
    "if s == \"y\":\n",
    "    newMatrix.insert(g, k)\n",
    "    print (newMatrix)\n",
    "if newMatrix[g] == k: \n",
    "    s=(input(\"Хотите удалить данный элемент из массива?\"))\n",
    "    if s == \"y\":\n",
    "        newMatrix.pop(g)\n",
    "        print (newMatrix)"
   ]
  },
  {
   "cell_type": "code",
   "execution_count": 116,
   "metadata": {},
   "outputs": [
    {
     "name": "stdout",
     "output_type": "stream",
     "text": [
      "5 Not Found\n",
      "3 is found\n",
      "None\n",
      "--- 0.0020775794982910156 seconds ---\n",
      "3\n",
      "4\n",
      "7\n",
      "12\n"
     ]
    }
   ],
   "source": [
    "# Бинарное дерево\n",
    "import time\n",
    "start_time = time.time()\n",
    "class node:\n",
    "    def __init__(self, data = None, left = None, right = None):\n",
    "        self.data   = data\n",
    "        self.left   = left\n",
    "        self.right  = right\n",
    "        \n",
    "    def insert(self, data):\n",
    "        if self.data:\n",
    "            if data < self.data:\n",
    "                if self.left is None:\n",
    "                    self.left = node(data)\n",
    "                else:\n",
    "                    self.left.insert(data)\n",
    "            elif data > self.data:\n",
    "                if self.right is None:\n",
    "                    self.right = node(data)\n",
    "                else:\n",
    "                    self.right.insert(data)\n",
    "        else:\n",
    "            self.data = data\n",
    "            \n",
    "    def findval(self, lkpval):\n",
    "        if lkpval < self.data:\n",
    "            if self.left is None:\n",
    "                return str(lkpval)+\" Not Found\"\n",
    "            return self.left.findval(lkpval)\n",
    "        elif lkpval > self.data:\n",
    "            if self.right is None:\n",
    "                return str(lkpval)+\" Not Found\"\n",
    "            return self.right.findval(lkpval)\n",
    "        else:\n",
    "            print(str(self.data) + ' is found')\n",
    "\n",
    "    def PrintTree(self):\n",
    "        if self.left:\n",
    "            self.left.PrintTree()\n",
    "        print( self.data),\n",
    "        if self.right:\n",
    "            self.right.PrintTree()\n",
    "    def ChainDel(self,id):\n",
    "        h=0\n",
    "        for i in range (0,len(id)):\n",
    "            h=ord(id[i])+h\n",
    "        key=h%10\n",
    "        for i in range (len(self.a[key])):\n",
    "            if self.a[key][i]==id:\n",
    "                del(self.a[key][i])\n",
    "        return(key)\n",
    "            \n",
    "root = node(12)\n",
    "root.insert(7)\n",
    "root.insert(4)\n",
    "root.insert(3)\n",
    "print(root.findval(5))\n",
    "print(root.findval(3))\n",
    "print(\"--- %s seconds ---\" % (time.time() - start_time))\n",
    "root.PrintTree()"
   ]
  },
  {
   "attachments": {
    "image.png": {
     "image/png": "[encoded data removed]"
    }
   },
   "cell_type": "markdown",
   "metadata": {},
   "source": [
    "![image.png](attachment:image.png)"
   ]
  },
  {
   "cell_type": "code",
   "execution_count": 117,
   "metadata": {},
   "outputs": [],
   "source": [
    "class HashMap:\n",
    "    def __init__(self):\n",
    "        self.a=[None]*64\n",
    "        self.n=64\n",
    "\n",
    "    def Flash(self,id):\n",
    "        i=0\n",
    "        hash=(ord(id[0])+ord(id[len(id)//2])+ord(id[len(id)-1])+i)//self.n\n",
    "        if self.a[hash]==None:\n",
    "            self.a[hash]=id\n",
    "        else:\n",
    "            k=hash\n",
    "            i=i+1\n",
    "            while (self.a[hash]!=None) and (hash!=255):\n",
    "                hash=(ord(id[0])+ord(id[len(id)//2])+ord(id[len(id)-1])+i)//self.n\n",
    "                i=i+1\n",
    "            if self.a[hash]==None:\n",
    "                self.a[hash]=id\n",
    "            else:\n",
    "                hash=i//self.n\n",
    "                while (self.a[hash]!=None) or (hash!=k):\n",
    "                    hash=i//self.n\n",
    "                    i=i+1\n",
    "                if self.a[hash]==None:\n",
    "                    self.a[hash]=id\n",
    "                else:\n",
    "                    print(\"There are no places in the table\")\n",
    "        return self.a\n",
    "\n",
    "    def FlashSearch(self,id):\n",
    "        i=0\n",
    "        hash=(ord(id[0])+ord(id[len(id)//2])+ord(id[len(id)-1])+i)//self.n\n",
    "        if self.a[hash]==id:\n",
    "            return hash\n",
    "        else:\n",
    "            k=hash\n",
    "            i=i+1\n",
    "            while (self.a[hash]!=id) and (hash!=255):\n",
    "                hash=(ord(id[0])+ord(id[len(id)//2])+ord(id[len(id)-1])+i)//self.n\n",
    "                i=i+1\n",
    "        if self.a[hash]==id:\n",
    "            return hash\n",
    "        else:\n",
    "            hash=i//self.n\n",
    "            while (self.a[hash]!=id) and (hash<250):\n",
    "                hash=i//self.n\n",
    "                i=i+1\n",
    "            if self.a[hash]==id:\n",
    "                return hash\n",
    "            else:\n",
    "                print(\"Идентификатор не найден\")"
   ]
  },
  {
   "cell_type": "code",
   "execution_count": 118,
   "metadata": {},
   "outputs": [
    {
     "name": "stdout",
     "output_type": "stream",
     "text": [
      "<__main__.HashMap object at 0x000001CE51FA3C10>\n"
     ]
    }
   ],
   "source": [
    "a=HashMap()\n",
    "s=(input(\"Хотите добавить новый идентификатор в таблицу?\"))\n",
    "if s==\"y\":\n",
    "    while s==\"y\":\n",
    "        id=(input())\n",
    "        a.Flash(id)\n",
    "        s=(input(\"Хотите добавить новый идентификатор в таблицу?\"))\n",
    "print(a)\n",
    "k=(input(\"Хотите найти идентификатор в таблице?\"))\n",
    "if k==\"y\":\n",
    "    while k==\"y\":\n",
    "        id=(input())\n",
    "        hash=HashMap.FlashSearch(a,id)\n",
    "        print(hash)\n",
    "        k=(input(\"Хотите найти идентификатор в таблице?\"))"
   ]
  },
  {
   "cell_type": "code",
   "execution_count": 119,
   "metadata": {},
   "outputs": [],
   "source": [
    "class RandomHashMap:\n",
    "    def __init__(self):\n",
    "        self.a=[None]*64\n",
    "        self.n=64\n",
    "\n",
    "    def Fhash2 (self, id, i):\n",
    "        import random\n",
    "        i=i+1\n",
    "        if (i < 6):\n",
    "            hash = (ord(id[0])+ord(id[len(id)//2])+ord(id[len(id)-1])+random.randint(0, 1500))//self.n\n",
    "            if self.a[hash] == None:\n",
    "                self.a[hash]=id\n",
    "            else:\n",
    "                k=hash\n",
    "                while (self.a[hash]!=None):\n",
    "                    hash = (ord(id[0])+ord(id[len(id)//2])+ord(id[len(id)-1])+random.randint(0, 1500))//self.n\n",
    "\n",
    "        else:\n",
    "            print (\"There are no places in the table\")\n",
    "        return self.a\n",
    "\n",
    "    def Flashsearch2(self,id):\n",
    "        i=0\n",
    "        while i<63 and self.a[i]!=id:\n",
    "            i=i+1\n",
    "        if self.a[i]==id:\n",
    "            return i\n",
    "        else:\n",
    "            print(\"Идентификатор не найден\")"
   ]
  },
  {
   "cell_type": "code",
   "execution_count": 120,
   "metadata": {},
   "outputs": [],
   "source": [
    "a=RandomHashMap()\n",
    "i=0\n",
    "s=(input(\"Хотите добавить новый идентификатор в таблицу?\"))\n",
    "if s == \"y\":\n",
    "    while s ==\"y\":\n",
    "        id=(input())\n",
    "        a.Fhash2(id, i)\n",
    "        s=(input(\"Хотите добавить новый идентификатор в таблицу?\"))\n",
    "#print (a)\n",
    "k=(input(\"Хотите найти идентификатор в таблице?\"))\n",
    "if k==\"y\":\n",
    "    while k==\"y\":\n",
    "        id=(input())\n",
    "        hash=RandomHashMap.Flashsearch2(a,id)\n",
    "        print(hash)\n",
    "        k=(input(\"Хотите найти идентификатор в таблице?\"))"
   ]
  },
  {
   "cell_type": "code",
   "execution_count": 121,
   "metadata": {},
   "outputs": [],
   "source": [
    "class ChainMap:\n",
    "    def __init__(self):\n",
    "        self.a=[[]*1 for i in range (10)]\n",
    "\n",
    "    def Chainmethod (self, id):\n",
    "        h=0\n",
    "        for i in range (0, len(id)):\n",
    "            h=ord(id[i])+h\n",
    "        key=h%10\n",
    "        self.a[key].append(id)\n",
    "        return key\n",
    "\n",
    "    def ChainSearch(self,id):\n",
    "        h=0\n",
    "        for i in range (0,len(id)):\n",
    "            h=ord(id[i])+h\n",
    "        key=h%10\n",
    "        k=0\n",
    "        for i in range (0,len(id)):\n",
    "            if self.a[key][i]==id:\n",
    "                print(\"Строка\",key,\"Элемент\",i)\n",
    "                k=1\n",
    "        if k==0:\n",
    "            print(\"Идентификатор не найден\")\n",
    "            return(1)\n",
    "\n",
    "    def ChainDel(self,id):\n",
    "        h=0\n",
    "        for i in range (0,len(id)):\n",
    "            h=ord(id[i])+h\n",
    "        key=h%10\n",
    "        for i in range (len(self.a[key])):\n",
    "            if self.a[key][i]==id:\n",
    "                del(self.a[key][i])\n",
    "        return(key)"
   ]
  },
  {
   "cell_type": "code",
   "execution_count": 122,
   "metadata": {},
   "outputs": [],
   "source": [
    "key=ChainMap()\n",
    "s=(input(\"Хотите добавить новый идентификатор в таблицу?\"))\n",
    "if s == \"y\":\n",
    "    while s ==\"y\":\n",
    "        id=(input())\n",
    "        x=key.Chainmethod (id)\n",
    "        s=(input(\"Хотите добавить новый идентификатор в таблицу?\"))\n",
    "#print (key)\n",
    "k=(input(\"Хотите найти идентификатор в таблице?\"))\n",
    "if k==\"y\":\n",
    "    while k==\"y\":\n",
    "        id=(input())\n",
    "        hash=key.ChainSearch(id)\n",
    "        k=(input(\"Хотите найти идентификатор в таблице?\"))\n",
    "        if hash!=1:\n",
    "        \n",
    "            k=(input(\"Хотите удалить идентификатор в таблице?\"))\n",
    "            if k==\"y\":\n",
    "                hash=key.ChainDel(id)\n",
    "                print(key)"
   ]
  },
  {
   "cell_type": "markdown",
   "metadata": {},
   "source": [
    "# Задание 3\n",
    "Расставить на стандартной 64-клеточной шахматной доске 8 ферзей так, чтобы ни один из них не находился под боем другого». Подразумевается, что ферзь бьёт все клетки, расположенные по вертикалям, горизонталям и обеим диагоналям Написать программу, которая находит хотя бы один способ решения задач."
   ]
  },
  {
   "cell_type": "code",
   "execution_count": 123,
   "metadata": {},
   "outputs": [],
   "source": [
    "from IPython.display import HTML, display"
   ]
  },
  {
   "cell_type": "code",
   "execution_count": 124,
   "metadata": {},
   "outputs": [],
   "source": [
    "def tag(x, color='darkred'):\n",
    "    return f'<td style=\"width:24px;height:24px;text-align:center;\" bgcolor=\"{color}\">{x}</td>'\n",
    "th = ''.join(map(tag, ' abcdefgh '))\n",
    "def chessboard(data):\n",
    "    row = lambda i: ''.join([\n",
    "        tag('<span style=\"font-size:24px; color:red;\">♛</span>' * v,\n",
    "            color='black' if (i+j+1)%2 else 'white')\n",
    "        for j, v in enumerate(data[i])])\n",
    "    tb = ''.join([f'<tr>{tag(8-i)}{row(i)}{tag(8-i)}</tr>' for i in range(len(data))])\n",
    "    return HTML(f'<table>{th}{tb}{th}</table>')\n"
   ]
  },
  {
   "cell_type": "code",
   "execution_count": 125,
   "metadata": {},
   "outputs": [
    {
     "data": {
      "text/html": [
       "<table><td style=\"width:24px;height:24px;text-align:center;\" bgcolor=\"darkred\"> </td><td style=\"width:24px;height:24px;text-align:center;\" bgcolor=\"darkred\">a</td><td style=\"width:24px;height:24px;text-align:center;\" bgcolor=\"darkred\">b</td><td style=\"width:24px;height:24px;text-align:center;\" bgcolor=\"darkred\">c</td><td style=\"width:24px;height:24px;text-align:center;\" bgcolor=\"darkred\">d</td><td style=\"width:24px;height:24px;text-align:center;\" bgcolor=\"darkred\">e</td><td style=\"width:24px;height:24px;text-align:center;\" bgcolor=\"darkred\">f</td><td style=\"width:24px;height:24px;text-align:center;\" bgcolor=\"darkred\">g</td><td style=\"width:24px;height:24px;text-align:center;\" bgcolor=\"darkred\">h</td><td style=\"width:24px;height:24px;text-align:center;\" bgcolor=\"darkred\"> </td><tr><td style=\"width:24px;height:24px;text-align:center;\" bgcolor=\"darkred\">8</td><td style=\"width:24px;height:24px;text-align:center;\" bgcolor=\"black\"></td><td style=\"width:24px;height:24px;text-align:center;\" bgcolor=\"white\"></td><td style=\"width:24px;height:24px;text-align:center;\" bgcolor=\"black\"></td><td style=\"width:24px;height:24px;text-align:center;\" bgcolor=\"white\"></td><td style=\"width:24px;height:24px;text-align:center;\" bgcolor=\"black\"></td><td style=\"width:24px;height:24px;text-align:center;\" bgcolor=\"white\"></td><td style=\"width:24px;height:24px;text-align:center;\" bgcolor=\"black\"></td><td style=\"width:24px;height:24px;text-align:center;\" bgcolor=\"white\"></td><td style=\"width:24px;height:24px;text-align:center;\" bgcolor=\"darkred\">8</td></tr><tr><td style=\"width:24px;height:24px;text-align:center;\" bgcolor=\"darkred\">7</td><td style=\"width:24px;height:24px;text-align:center;\" bgcolor=\"white\"></td><td style=\"width:24px;height:24px;text-align:center;\" bgcolor=\"black\"></td><td style=\"width:24px;height:24px;text-align:center;\" bgcolor=\"white\"><span style=\"font-size:24px; color:red;\">♛</span></td><td style=\"width:24px;height:24px;text-align:center;\" bgcolor=\"black\"></td><td style=\"width:24px;height:24px;text-align:center;\" bgcolor=\"white\"></td><td style=\"width:24px;height:24px;text-align:center;\" bgcolor=\"black\"></td><td style=\"width:24px;height:24px;text-align:center;\" bgcolor=\"white\"></td><td style=\"width:24px;height:24px;text-align:center;\" bgcolor=\"black\"></td><td style=\"width:24px;height:24px;text-align:center;\" bgcolor=\"darkred\">7</td></tr><tr><td style=\"width:24px;height:24px;text-align:center;\" bgcolor=\"darkred\">6</td><td style=\"width:24px;height:24px;text-align:center;\" bgcolor=\"black\"></td><td style=\"width:24px;height:24px;text-align:center;\" bgcolor=\"white\"></td><td style=\"width:24px;height:24px;text-align:center;\" bgcolor=\"black\"></td><td style=\"width:24px;height:24px;text-align:center;\" bgcolor=\"white\"></td><td style=\"width:24px;height:24px;text-align:center;\" bgcolor=\"black\"></td><td style=\"width:24px;height:24px;text-align:center;\" bgcolor=\"white\"></td><td style=\"width:24px;height:24px;text-align:center;\" bgcolor=\"black\"></td><td style=\"width:24px;height:24px;text-align:center;\" bgcolor=\"white\"></td><td style=\"width:24px;height:24px;text-align:center;\" bgcolor=\"darkred\">6</td></tr><tr><td style=\"width:24px;height:24px;text-align:center;\" bgcolor=\"darkred\">5</td><td style=\"width:24px;height:24px;text-align:center;\" bgcolor=\"white\"></td><td style=\"width:24px;height:24px;text-align:center;\" bgcolor=\"black\"></td><td style=\"width:24px;height:24px;text-align:center;\" bgcolor=\"white\"></td><td style=\"width:24px;height:24px;text-align:center;\" bgcolor=\"black\"></td><td style=\"width:24px;height:24px;text-align:center;\" bgcolor=\"white\"></td><td style=\"width:24px;height:24px;text-align:center;\" bgcolor=\"black\"></td><td style=\"width:24px;height:24px;text-align:center;\" bgcolor=\"white\"></td><td style=\"width:24px;height:24px;text-align:center;\" bgcolor=\"black\"></td><td style=\"width:24px;height:24px;text-align:center;\" bgcolor=\"darkred\">5</td></tr><tr><td style=\"width:24px;height:24px;text-align:center;\" bgcolor=\"darkred\">4</td><td style=\"width:24px;height:24px;text-align:center;\" bgcolor=\"black\"></td><td style=\"width:24px;height:24px;text-align:center;\" bgcolor=\"white\"></td><td style=\"width:24px;height:24px;text-align:center;\" bgcolor=\"black\"></td><td style=\"width:24px;height:24px;text-align:center;\" bgcolor=\"white\"></td><td style=\"width:24px;height:24px;text-align:center;\" bgcolor=\"black\"></td><td style=\"width:24px;height:24px;text-align:center;\" bgcolor=\"white\"></td><td style=\"width:24px;height:24px;text-align:center;\" bgcolor=\"black\"></td><td style=\"width:24px;height:24px;text-align:center;\" bgcolor=\"white\"></td><td style=\"width:24px;height:24px;text-align:center;\" bgcolor=\"darkred\">4</td></tr><tr><td style=\"width:24px;height:24px;text-align:center;\" bgcolor=\"darkred\">3</td><td style=\"width:24px;height:24px;text-align:center;\" bgcolor=\"white\"></td><td style=\"width:24px;height:24px;text-align:center;\" bgcolor=\"black\"></td><td style=\"width:24px;height:24px;text-align:center;\" bgcolor=\"white\"></td><td style=\"width:24px;height:24px;text-align:center;\" bgcolor=\"black\"></td><td style=\"width:24px;height:24px;text-align:center;\" bgcolor=\"white\"></td><td style=\"width:24px;height:24px;text-align:center;\" bgcolor=\"black\"></td><td style=\"width:24px;height:24px;text-align:center;\" bgcolor=\"white\"></td><td style=\"width:24px;height:24px;text-align:center;\" bgcolor=\"black\"></td><td style=\"width:24px;height:24px;text-align:center;\" bgcolor=\"darkred\">3</td></tr><tr><td style=\"width:24px;height:24px;text-align:center;\" bgcolor=\"darkred\">2</td><td style=\"width:24px;height:24px;text-align:center;\" bgcolor=\"black\"></td><td style=\"width:24px;height:24px;text-align:center;\" bgcolor=\"white\"></td><td style=\"width:24px;height:24px;text-align:center;\" bgcolor=\"black\"></td><td style=\"width:24px;height:24px;text-align:center;\" bgcolor=\"white\"></td><td style=\"width:24px;height:24px;text-align:center;\" bgcolor=\"black\"></td><td style=\"width:24px;height:24px;text-align:center;\" bgcolor=\"white\"></td><td style=\"width:24px;height:24px;text-align:center;\" bgcolor=\"black\"></td><td style=\"width:24px;height:24px;text-align:center;\" bgcolor=\"white\"></td><td style=\"width:24px;height:24px;text-align:center;\" bgcolor=\"darkred\">2</td></tr><tr><td style=\"width:24px;height:24px;text-align:center;\" bgcolor=\"darkred\">1</td><td style=\"width:24px;height:24px;text-align:center;\" bgcolor=\"white\"></td><td style=\"width:24px;height:24px;text-align:center;\" bgcolor=\"black\"></td><td style=\"width:24px;height:24px;text-align:center;\" bgcolor=\"white\"></td><td style=\"width:24px;height:24px;text-align:center;\" bgcolor=\"black\"></td><td style=\"width:24px;height:24px;text-align:center;\" bgcolor=\"white\"></td><td style=\"width:24px;height:24px;text-align:center;\" bgcolor=\"black\"></td><td style=\"width:24px;height:24px;text-align:center;\" bgcolor=\"white\"></td><td style=\"width:24px;height:24px;text-align:center;\" bgcolor=\"black\"></td><td style=\"width:24px;height:24px;text-align:center;\" bgcolor=\"darkred\">1</td></tr><td style=\"width:24px;height:24px;text-align:center;\" bgcolor=\"darkred\"> </td><td style=\"width:24px;height:24px;text-align:center;\" bgcolor=\"darkred\">a</td><td style=\"width:24px;height:24px;text-align:center;\" bgcolor=\"darkred\">b</td><td style=\"width:24px;height:24px;text-align:center;\" bgcolor=\"darkred\">c</td><td style=\"width:24px;height:24px;text-align:center;\" bgcolor=\"darkred\">d</td><td style=\"width:24px;height:24px;text-align:center;\" bgcolor=\"darkred\">e</td><td style=\"width:24px;height:24px;text-align:center;\" bgcolor=\"darkred\">f</td><td style=\"width:24px;height:24px;text-align:center;\" bgcolor=\"darkred\">g</td><td style=\"width:24px;height:24px;text-align:center;\" bgcolor=\"darkred\">h</td><td style=\"width:24px;height:24px;text-align:center;\" bgcolor=\"darkred\"> </td></table>"
      ],
      "text/plain": [
       "<IPython.core.display.HTML object>"
      ]
     },
     "execution_count": 125,
     "metadata": {},
     "output_type": "execute_result"
    }
   ],
   "source": [
    "# создаю пустую доску\n",
    "# это матрица 8 на 8, где нулевые значения означают пустоту, а единицы - ферзя\n",
    "arr = [[0] * 8 for i in range(8)]\n",
    "arr[1][2] = 1\n",
    "chessboard(arr)"
   ]
  },
  {
   "cell_type": "code",
   "execution_count": 126,
   "metadata": {},
   "outputs": [
    {
     "data": {
      "text/html": [
       "<table><td style=\"width:24px;height:24px;text-align:center;\" bgcolor=\"darkred\"> </td><td style=\"width:24px;height:24px;text-align:center;\" bgcolor=\"darkred\">a</td><td style=\"width:24px;height:24px;text-align:center;\" bgcolor=\"darkred\">b</td><td style=\"width:24px;height:24px;text-align:center;\" bgcolor=\"darkred\">c</td><td style=\"width:24px;height:24px;text-align:center;\" bgcolor=\"darkred\">d</td><td style=\"width:24px;height:24px;text-align:center;\" bgcolor=\"darkred\">e</td><td style=\"width:24px;height:24px;text-align:center;\" bgcolor=\"darkred\">f</td><td style=\"width:24px;height:24px;text-align:center;\" bgcolor=\"darkred\">g</td><td style=\"width:24px;height:24px;text-align:center;\" bgcolor=\"darkred\">h</td><td style=\"width:24px;height:24px;text-align:center;\" bgcolor=\"darkred\"> </td><tr><td style=\"width:24px;height:24px;text-align:center;\" bgcolor=\"darkred\">8</td><td style=\"width:24px;height:24px;text-align:center;\" bgcolor=\"black\"><span style=\"font-size:24px; color:red;\">♛</span></td><td style=\"width:24px;height:24px;text-align:center;\" bgcolor=\"white\"></td><td style=\"width:24px;height:24px;text-align:center;\" bgcolor=\"black\"></td><td style=\"width:24px;height:24px;text-align:center;\" bgcolor=\"white\"></td><td style=\"width:24px;height:24px;text-align:center;\" bgcolor=\"black\"></td><td style=\"width:24px;height:24px;text-align:center;\" bgcolor=\"white\"></td><td style=\"width:24px;height:24px;text-align:center;\" bgcolor=\"black\"></td><td style=\"width:24px;height:24px;text-align:center;\" bgcolor=\"white\"></td><td style=\"width:24px;height:24px;text-align:center;\" bgcolor=\"darkred\">8</td></tr><tr><td style=\"width:24px;height:24px;text-align:center;\" bgcolor=\"darkred\">7</td><td style=\"width:24px;height:24px;text-align:center;\" bgcolor=\"white\"></td><td style=\"width:24px;height:24px;text-align:center;\" bgcolor=\"black\"></td><td style=\"width:24px;height:24px;text-align:center;\" bgcolor=\"white\"></td><td style=\"width:24px;height:24px;text-align:center;\" bgcolor=\"black\"></td><td style=\"width:24px;height:24px;text-align:center;\" bgcolor=\"white\"><span style=\"font-size:24px; color:red;\">♛</span></td><td style=\"width:24px;height:24px;text-align:center;\" bgcolor=\"black\"></td><td style=\"width:24px;height:24px;text-align:center;\" bgcolor=\"white\"></td><td style=\"width:24px;height:24px;text-align:center;\" bgcolor=\"black\"></td><td style=\"width:24px;height:24px;text-align:center;\" bgcolor=\"darkred\">7</td></tr><tr><td style=\"width:24px;height:24px;text-align:center;\" bgcolor=\"darkred\">6</td><td style=\"width:24px;height:24px;text-align:center;\" bgcolor=\"black\"></td><td style=\"width:24px;height:24px;text-align:center;\" bgcolor=\"white\"></td><td style=\"width:24px;height:24px;text-align:center;\" bgcolor=\"black\"></td><td style=\"width:24px;height:24px;text-align:center;\" bgcolor=\"white\"></td><td style=\"width:24px;height:24px;text-align:center;\" bgcolor=\"black\"></td><td style=\"width:24px;height:24px;text-align:center;\" bgcolor=\"white\"></td><td style=\"width:24px;height:24px;text-align:center;\" bgcolor=\"black\"></td><td style=\"width:24px;height:24px;text-align:center;\" bgcolor=\"white\"><span style=\"font-size:24px; color:red;\">♛</span></td><td style=\"width:24px;height:24px;text-align:center;\" bgcolor=\"darkred\">6</td></tr><tr><td style=\"width:24px;height:24px;text-align:center;\" bgcolor=\"darkred\">5</td><td style=\"width:24px;height:24px;text-align:center;\" bgcolor=\"white\"></td><td style=\"width:24px;height:24px;text-align:center;\" bgcolor=\"black\"></td><td style=\"width:24px;height:24px;text-align:center;\" bgcolor=\"white\"></td><td style=\"width:24px;height:24px;text-align:center;\" bgcolor=\"black\"></td><td style=\"width:24px;height:24px;text-align:center;\" bgcolor=\"white\"></td><td style=\"width:24px;height:24px;text-align:center;\" bgcolor=\"black\"><span style=\"font-size:24px; color:red;\">♛</span></td><td style=\"width:24px;height:24px;text-align:center;\" bgcolor=\"white\"></td><td style=\"width:24px;height:24px;text-align:center;\" bgcolor=\"black\"></td><td style=\"width:24px;height:24px;text-align:center;\" bgcolor=\"darkred\">5</td></tr><tr><td style=\"width:24px;height:24px;text-align:center;\" bgcolor=\"darkred\">4</td><td style=\"width:24px;height:24px;text-align:center;\" bgcolor=\"black\"></td><td style=\"width:24px;height:24px;text-align:center;\" bgcolor=\"white\"></td><td style=\"width:24px;height:24px;text-align:center;\" bgcolor=\"black\"><span style=\"font-size:24px; color:red;\">♛</span></td><td style=\"width:24px;height:24px;text-align:center;\" bgcolor=\"white\"></td><td style=\"width:24px;height:24px;text-align:center;\" bgcolor=\"black\"></td><td style=\"width:24px;height:24px;text-align:center;\" bgcolor=\"white\"></td><td style=\"width:24px;height:24px;text-align:center;\" bgcolor=\"black\"></td><td style=\"width:24px;height:24px;text-align:center;\" bgcolor=\"white\"></td><td style=\"width:24px;height:24px;text-align:center;\" bgcolor=\"darkred\">4</td></tr><tr><td style=\"width:24px;height:24px;text-align:center;\" bgcolor=\"darkred\">3</td><td style=\"width:24px;height:24px;text-align:center;\" bgcolor=\"white\"></td><td style=\"width:24px;height:24px;text-align:center;\" bgcolor=\"black\"></td><td style=\"width:24px;height:24px;text-align:center;\" bgcolor=\"white\"></td><td style=\"width:24px;height:24px;text-align:center;\" bgcolor=\"black\"></td><td style=\"width:24px;height:24px;text-align:center;\" bgcolor=\"white\"></td><td style=\"width:24px;height:24px;text-align:center;\" bgcolor=\"black\"></td><td style=\"width:24px;height:24px;text-align:center;\" bgcolor=\"white\"><span style=\"font-size:24px; color:red;\">♛</span></td><td style=\"width:24px;height:24px;text-align:center;\" bgcolor=\"black\"></td><td style=\"width:24px;height:24px;text-align:center;\" bgcolor=\"darkred\">3</td></tr><tr><td style=\"width:24px;height:24px;text-align:center;\" bgcolor=\"darkred\">2</td><td style=\"width:24px;height:24px;text-align:center;\" bgcolor=\"black\"></td><td style=\"width:24px;height:24px;text-align:center;\" bgcolor=\"white\"><span style=\"font-size:24px; color:red;\">♛</span></td><td style=\"width:24px;height:24px;text-align:center;\" bgcolor=\"black\"></td><td style=\"width:24px;height:24px;text-align:center;\" bgcolor=\"white\"></td><td style=\"width:24px;height:24px;text-align:center;\" bgcolor=\"black\"></td><td style=\"width:24px;height:24px;text-align:center;\" bgcolor=\"white\"></td><td style=\"width:24px;height:24px;text-align:center;\" bgcolor=\"black\"></td><td style=\"width:24px;height:24px;text-align:center;\" bgcolor=\"white\"></td><td style=\"width:24px;height:24px;text-align:center;\" bgcolor=\"darkred\">2</td></tr><tr><td style=\"width:24px;height:24px;text-align:center;\" bgcolor=\"darkred\">1</td><td style=\"width:24px;height:24px;text-align:center;\" bgcolor=\"white\"></td><td style=\"width:24px;height:24px;text-align:center;\" bgcolor=\"black\"></td><td style=\"width:24px;height:24px;text-align:center;\" bgcolor=\"white\"></td><td style=\"width:24px;height:24px;text-align:center;\" bgcolor=\"black\"><span style=\"font-size:24px; color:red;\">♛</span></td><td style=\"width:24px;height:24px;text-align:center;\" bgcolor=\"white\"></td><td style=\"width:24px;height:24px;text-align:center;\" bgcolor=\"black\"></td><td style=\"width:24px;height:24px;text-align:center;\" bgcolor=\"white\"></td><td style=\"width:24px;height:24px;text-align:center;\" bgcolor=\"black\"></td><td style=\"width:24px;height:24px;text-align:center;\" bgcolor=\"darkred\">1</td></tr><td style=\"width:24px;height:24px;text-align:center;\" bgcolor=\"darkred\"> </td><td style=\"width:24px;height:24px;text-align:center;\" bgcolor=\"darkred\">a</td><td style=\"width:24px;height:24px;text-align:center;\" bgcolor=\"darkred\">b</td><td style=\"width:24px;height:24px;text-align:center;\" bgcolor=\"darkred\">c</td><td style=\"width:24px;height:24px;text-align:center;\" bgcolor=\"darkred\">d</td><td style=\"width:24px;height:24px;text-align:center;\" bgcolor=\"darkred\">e</td><td style=\"width:24px;height:24px;text-align:center;\" bgcolor=\"darkred\">f</td><td style=\"width:24px;height:24px;text-align:center;\" bgcolor=\"darkred\">g</td><td style=\"width:24px;height:24px;text-align:center;\" bgcolor=\"darkred\">h</td><td style=\"width:24px;height:24px;text-align:center;\" bgcolor=\"darkred\"> </td></table>"
      ],
      "text/plain": [
       "<IPython.core.display.HTML object>"
      ]
     },
     "execution_count": 126,
     "metadata": {},
     "output_type": "execute_result"
    }
   ],
   "source": [
    "def check_place(rows, row, column):\n",
    "    #Проверяет, если board[column][row] под атакой других ферзей\n",
    "    for i in range(row):\n",
    "        if rows[i] == column or \\\n",
    "            rows[i] - i == column - row or \\\n",
    "            rows[i] + i == column + row:\n",
    "            return False\n",
    "    return True\n",
    "\n",
    "total_shown = 0\n",
    "def put_queen(rows=[0]*8, row=0):\n",
    "    #Пытается подобрать место для ферзя, которое не находится под атакой других\n",
    "    if row == 8: # мы уместили всех 15 ферзей и можем показать доску\n",
    "        arr = [[0] * 8 for i in range(8)]\n",
    "        for row, column in enumerate(rows):\n",
    "            arr[row][column] = 1\n",
    "        return chessboard(arr)\n",
    "    else:\n",
    "        for column in range(8):\n",
    "            if check_place(rows, row, column):\n",
    "                rows[row] = column\n",
    "                board = put_queen(rows, row + 1)\n",
    "                if board: return board\n",
    "    \n",
    "put_queen()"
   ]
  },
  {
   "cell_type": "markdown",
   "metadata": {},
   "source": [
    "### Вывод\n",
    "В ходе лабораторной работы мы научились реализовывать методы поиска, организовывать генерацию начального набора случайных данных, а также добавили реализацию добавления, поиска и удаления элементов, оценили время работы каждого алгоритма поиска и сравнили его со временем работы стандартной функции поиска, используемой в языке программирования Python 3. А также реализовали один из вариантов решения задачи о восьми ферзях."
   ]
  }
 ],
 "metadata": {
  "kernelspec": {
   "display_name": "Python 3",
   "language": "python",
   "name": "python3"
  },
  "language_info": {
   "codemirror_mode": {
    "name": "ipython",
    "version": 3
   },
   "file_extension": ".py",
   "mimetype": "text/x-python",
   "name": "python",
   "nbconvert_exporter": "python",
   "pygments_lexer": "ipython3",
   "version": "3.11.2"
  }
 },
 "nbformat": 4,
 "nbformat_minor": 4
}
